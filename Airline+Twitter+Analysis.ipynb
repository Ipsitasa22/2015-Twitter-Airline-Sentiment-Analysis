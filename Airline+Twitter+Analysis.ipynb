{
 "cells": [
  {
   "cell_type": "markdown",
   "metadata": {},
   "source": [
    "# Overview\n",
    "It's Feb 25th, 2015, and you need to book a flight to Ann Arbor for the Michigan vs. Ohio State basketball game. This is your first time flying, and you want to make it a good first experience. You know there are several airline choices out there, but you don't know who is the best and who is the worst. There's plenty of rating websites, but you can't always trust their sources. You want to hear from the people themselves. Who is the airline to avoid when flying? What are everyone's major complaints? The best source to hear people rant - **TWITTER!!!** Your task is to parse through twitter data from the week span of Feb 17th to Feb 24th, and figure out who has been the worst lately and why."
   ]
  },
  {
   "cell_type": "markdown",
   "metadata": {},
   "source": [
    "# Data & Setup\n",
    "Utilize a twitter dataset that has been compiled for you to peform your analysis. Figure which airlines are being talked about and why. Not everyone goes on twitter complain, so be sure to sort out your negative tweets from all other ones so that you may perform your analysis on just the negative tweets. At the end, just for fun, let's see if the Twitter-verse has any true power. We will attempt to correlate an airlines twitter rating for the week to it's stock prices for the same time frame."
   ]
  },
  {
   "cell_type": "code",
   "execution_count": 1,
   "metadata": {
    "collapsed": true
   },
   "outputs": [],
   "source": [
    "import pandas as pd\n",
    "import numpy as np\n",
    "import matplotlib.pyplot as plt\n",
    "import re\n",
    "import seaborn as sns"
   ]
  },
  {
   "cell_type": "markdown",
   "metadata": {},
   "source": [
    "# Skills & Concepts\n",
    "The third cell of the notebook will not be shown to the learner, and lists the skills and concepts you are aiming to test with this question. Please remove all of the bullets from list below which you are *not* testing with this question. You can add new bullets with new skills wherever you see fit, and skills can focus on specific APIs or tools or more broadly on concepts related to the course. And don't worry if you're not sure, this is just a best guess list, there are usually many ways to solve a problem!\n",
    "* python-dicts\n",
    "* python-list comprehension\n",
    "* python-lambda\n",
    "* python-functions\n",
    "* python-types\n",
    "* python-strings\n",
    "* python-csv\n",
    "* python-dates and times\n",
    "* python-objects\n",
    "* python-map\n",
    "* python-numpy\n",
    "* python-pandas-Series\n",
    "* python-pandas-Series-index\n",
    "* python-pandas-Series-querying\n",
    "* python-pandas-DataFrame\n",
    "* python-pandas-DataFrame-read_csv\n",
    "* python-pandas-DataFrame-querying\n",
    "* python-pandas-DataFrame-indexing\n",
    "* python-pandas-DataFrame-merge\n",
    "* python-pandas-DataFrame-groupby\n",
    "* python-pandas-DataFrame-agg\n",
    "* python-pandas-Timestamp\n",
    "* python-pandas-DateTime\n",
    "* python-pandas-matplotlib\n",
    "* python-regex\n",
    "* python-fill_between\n",
    "\n",
    "\n"
   ]
  },
  {
   "cell_type": "code",
   "execution_count": 2,
   "metadata": {},
   "outputs": [
    {
     "name": "stdout",
     "output_type": "stream",
     "text": [
      "<class 'pandas.core.frame.DataFrame'>\n",
      "RangeIndex: 14640 entries, 0 to 14639\n",
      "Data columns (total 15 columns):\n",
      "tweet_id                        14640 non-null int64\n",
      "airline_sentiment               14640 non-null object\n",
      "airline_sentiment_confidence    14640 non-null float64\n",
      "negativereason                  9178 non-null object\n",
      "negativereason_confidence       10522 non-null float64\n",
      "airline                         14640 non-null object\n",
      "airline_sentiment_gold          40 non-null object\n",
      "name                            14640 non-null object\n",
      "negativereason_gold             32 non-null object\n",
      "retweet_count                   14640 non-null int64\n",
      "text                            14640 non-null object\n",
      "tweet_coord                     1019 non-null object\n",
      "tweet_created                   14640 non-null object\n",
      "tweet_location                  9907 non-null object\n",
      "user_timezone                   9820 non-null object\n",
      "dtypes: float64(2), int64(2), object(11)\n",
      "memory usage: 1.7+ MB\n"
     ]
    }
   ],
   "source": [
    "#Load and inspect data\n",
    "df = pd.read_csv('Tweets.csv')\n",
    "df.info()"
   ]
  },
  {
   "cell_type": "markdown",
   "metadata": {},
   "source": [
    "We can see there's 14650 rows and 15 columns of data. There's a lot of missing data within some of these columns, but before we decide how to handle them. Let's first reduce the columns to the ones we might thing we are interested in. Let's print out a few lines of the dataframe and see what exactly is in each column."
   ]
  },
  {
   "cell_type": "code",
   "execution_count": 3,
   "metadata": {},
   "outputs": [
    {
     "data": {
      "text/html": [
       "<div>\n",
       "<table border=\"1\" class=\"dataframe\">\n",
       "  <thead>\n",
       "    <tr style=\"text-align: right;\">\n",
       "      <th></th>\n",
       "      <th>tweet_id</th>\n",
       "      <th>airline_sentiment</th>\n",
       "      <th>airline_sentiment_confidence</th>\n",
       "      <th>negativereason</th>\n",
       "      <th>negativereason_confidence</th>\n",
       "      <th>airline</th>\n",
       "      <th>airline_sentiment_gold</th>\n",
       "      <th>name</th>\n",
       "      <th>negativereason_gold</th>\n",
       "      <th>retweet_count</th>\n",
       "      <th>text</th>\n",
       "      <th>tweet_coord</th>\n",
       "      <th>tweet_created</th>\n",
       "      <th>tweet_location</th>\n",
       "      <th>user_timezone</th>\n",
       "    </tr>\n",
       "  </thead>\n",
       "  <tbody>\n",
       "    <tr>\n",
       "      <th>0</th>\n",
       "      <td>570306133677760513</td>\n",
       "      <td>neutral</td>\n",
       "      <td>1.0000</td>\n",
       "      <td>NaN</td>\n",
       "      <td>NaN</td>\n",
       "      <td>Virgin America</td>\n",
       "      <td>NaN</td>\n",
       "      <td>cairdin</td>\n",
       "      <td>NaN</td>\n",
       "      <td>0</td>\n",
       "      <td>@VirginAmerica What @dhepburn said.</td>\n",
       "      <td>NaN</td>\n",
       "      <td>2015-02-24 11:35:52 -0800</td>\n",
       "      <td>NaN</td>\n",
       "      <td>Eastern Time (US &amp; Canada)</td>\n",
       "    </tr>\n",
       "    <tr>\n",
       "      <th>1</th>\n",
       "      <td>570301130888122368</td>\n",
       "      <td>positive</td>\n",
       "      <td>0.3486</td>\n",
       "      <td>NaN</td>\n",
       "      <td>0.0000</td>\n",
       "      <td>Virgin America</td>\n",
       "      <td>NaN</td>\n",
       "      <td>jnardino</td>\n",
       "      <td>NaN</td>\n",
       "      <td>0</td>\n",
       "      <td>@VirginAmerica plus you've added commercials t...</td>\n",
       "      <td>NaN</td>\n",
       "      <td>2015-02-24 11:15:59 -0800</td>\n",
       "      <td>NaN</td>\n",
       "      <td>Pacific Time (US &amp; Canada)</td>\n",
       "    </tr>\n",
       "    <tr>\n",
       "      <th>2</th>\n",
       "      <td>570301083672813571</td>\n",
       "      <td>neutral</td>\n",
       "      <td>0.6837</td>\n",
       "      <td>NaN</td>\n",
       "      <td>NaN</td>\n",
       "      <td>Virgin America</td>\n",
       "      <td>NaN</td>\n",
       "      <td>yvonnalynn</td>\n",
       "      <td>NaN</td>\n",
       "      <td>0</td>\n",
       "      <td>@VirginAmerica I didn't today... Must mean I n...</td>\n",
       "      <td>NaN</td>\n",
       "      <td>2015-02-24 11:15:48 -0800</td>\n",
       "      <td>Lets Play</td>\n",
       "      <td>Central Time (US &amp; Canada)</td>\n",
       "    </tr>\n",
       "    <tr>\n",
       "      <th>3</th>\n",
       "      <td>570301031407624196</td>\n",
       "      <td>negative</td>\n",
       "      <td>1.0000</td>\n",
       "      <td>Bad Flight</td>\n",
       "      <td>0.7033</td>\n",
       "      <td>Virgin America</td>\n",
       "      <td>NaN</td>\n",
       "      <td>jnardino</td>\n",
       "      <td>NaN</td>\n",
       "      <td>0</td>\n",
       "      <td>@VirginAmerica it's really aggressive to blast...</td>\n",
       "      <td>NaN</td>\n",
       "      <td>2015-02-24 11:15:36 -0800</td>\n",
       "      <td>NaN</td>\n",
       "      <td>Pacific Time (US &amp; Canada)</td>\n",
       "    </tr>\n",
       "    <tr>\n",
       "      <th>4</th>\n",
       "      <td>570300817074462722</td>\n",
       "      <td>negative</td>\n",
       "      <td>1.0000</td>\n",
       "      <td>Can't Tell</td>\n",
       "      <td>1.0000</td>\n",
       "      <td>Virgin America</td>\n",
       "      <td>NaN</td>\n",
       "      <td>jnardino</td>\n",
       "      <td>NaN</td>\n",
       "      <td>0</td>\n",
       "      <td>@VirginAmerica and it's a really big bad thing...</td>\n",
       "      <td>NaN</td>\n",
       "      <td>2015-02-24 11:14:45 -0800</td>\n",
       "      <td>NaN</td>\n",
       "      <td>Pacific Time (US &amp; Canada)</td>\n",
       "    </tr>\n",
       "  </tbody>\n",
       "</table>\n",
       "</div>"
      ],
      "text/plain": [
       "             tweet_id airline_sentiment  airline_sentiment_confidence  \\\n",
       "0  570306133677760513           neutral                        1.0000   \n",
       "1  570301130888122368          positive                        0.3486   \n",
       "2  570301083672813571           neutral                        0.6837   \n",
       "3  570301031407624196          negative                        1.0000   \n",
       "4  570300817074462722          negative                        1.0000   \n",
       "\n",
       "  negativereason  negativereason_confidence         airline  \\\n",
       "0            NaN                        NaN  Virgin America   \n",
       "1            NaN                     0.0000  Virgin America   \n",
       "2            NaN                        NaN  Virgin America   \n",
       "3     Bad Flight                     0.7033  Virgin America   \n",
       "4     Can't Tell                     1.0000  Virgin America   \n",
       "\n",
       "  airline_sentiment_gold        name negativereason_gold  retweet_count  \\\n",
       "0                    NaN     cairdin                 NaN              0   \n",
       "1                    NaN    jnardino                 NaN              0   \n",
       "2                    NaN  yvonnalynn                 NaN              0   \n",
       "3                    NaN    jnardino                 NaN              0   \n",
       "4                    NaN    jnardino                 NaN              0   \n",
       "\n",
       "                                                text tweet_coord  \\\n",
       "0                @VirginAmerica What @dhepburn said.         NaN   \n",
       "1  @VirginAmerica plus you've added commercials t...         NaN   \n",
       "2  @VirginAmerica I didn't today... Must mean I n...         NaN   \n",
       "3  @VirginAmerica it's really aggressive to blast...         NaN   \n",
       "4  @VirginAmerica and it's a really big bad thing...         NaN   \n",
       "\n",
       "               tweet_created tweet_location               user_timezone  \n",
       "0  2015-02-24 11:35:52 -0800            NaN  Eastern Time (US & Canada)  \n",
       "1  2015-02-24 11:15:59 -0800            NaN  Pacific Time (US & Canada)  \n",
       "2  2015-02-24 11:15:48 -0800      Lets Play  Central Time (US & Canada)  \n",
       "3  2015-02-24 11:15:36 -0800            NaN  Pacific Time (US & Canada)  \n",
       "4  2015-02-24 11:14:45 -0800            NaN  Pacific Time (US & Canada)  "
      ]
     },
     "execution_count": 3,
     "metadata": {},
     "output_type": "execute_result"
    }
   ],
   "source": [
    "df.head()"
   ]
  },
  {
   "cell_type": "markdown",
   "metadata": {},
   "source": [
    "   "
   ]
  },
  {
   "cell_type": "markdown",
   "metadata": {},
   "source": [
    "There's a lot of information here, but some of it we don't need. Getting rid of some of these columns will also help out with our previous problem of what to do with the missing data. it appears that we might only be interested in:\n",
    "\n",
    "#### ['airline_sentiment', 'airline_sentiment_confidence', 'negativereason', 'negativereason_confidence', 'name', 'text', 'tweet_coord', 'tweet_created', 'airline']\n",
    "\n",
    "The naming of these columns are the greatest either. So let's reduce the dataframe to the columns of interest, and rename them at the same time and set the dates as the index."
   ]
  },
  {
   "cell_type": "markdown",
   "metadata": {},
   "source": [
    "      "
   ]
  },
  {
   "cell_type": "code",
   "execution_count": 120,
   "metadata": {},
   "outputs": [
    {
     "data": {
      "text/html": [
       "<div>\n",
       "<table border=\"1\" class=\"dataframe\">\n",
       "  <thead>\n",
       "    <tr style=\"text-align: right;\">\n",
       "      <th></th>\n",
       "      <th>Rating</th>\n",
       "      <th>Rating_Conf</th>\n",
       "      <th>Negative_Reason</th>\n",
       "      <th>Reason_Conf</th>\n",
       "      <th>User</th>\n",
       "      <th>Text</th>\n",
       "      <th>Coordinates</th>\n",
       "      <th>airline</th>\n",
       "    </tr>\n",
       "    <tr>\n",
       "      <th>Date</th>\n",
       "      <th></th>\n",
       "      <th></th>\n",
       "      <th></th>\n",
       "      <th></th>\n",
       "      <th></th>\n",
       "      <th></th>\n",
       "      <th></th>\n",
       "      <th></th>\n",
       "    </tr>\n",
       "  </thead>\n",
       "  <tbody>\n",
       "    <tr>\n",
       "      <th>2015-02-24 11:35:52 -0800</th>\n",
       "      <td>neutral</td>\n",
       "      <td>1.0000</td>\n",
       "      <td>NaN</td>\n",
       "      <td>NaN</td>\n",
       "      <td>cairdin</td>\n",
       "      <td>@VirginAmerica What @dhepburn said.</td>\n",
       "      <td>NaN</td>\n",
       "      <td>Virgin America</td>\n",
       "    </tr>\n",
       "    <tr>\n",
       "      <th>2015-02-24 11:15:59 -0800</th>\n",
       "      <td>positive</td>\n",
       "      <td>0.3486</td>\n",
       "      <td>NaN</td>\n",
       "      <td>0.0000</td>\n",
       "      <td>jnardino</td>\n",
       "      <td>@VirginAmerica plus you've added commercials t...</td>\n",
       "      <td>NaN</td>\n",
       "      <td>Virgin America</td>\n",
       "    </tr>\n",
       "    <tr>\n",
       "      <th>2015-02-24 11:15:48 -0800</th>\n",
       "      <td>neutral</td>\n",
       "      <td>0.6837</td>\n",
       "      <td>NaN</td>\n",
       "      <td>NaN</td>\n",
       "      <td>yvonnalynn</td>\n",
       "      <td>@VirginAmerica I didn't today... Must mean I n...</td>\n",
       "      <td>NaN</td>\n",
       "      <td>Virgin America</td>\n",
       "    </tr>\n",
       "    <tr>\n",
       "      <th>2015-02-24 11:15:36 -0800</th>\n",
       "      <td>negative</td>\n",
       "      <td>1.0000</td>\n",
       "      <td>Bad Flight</td>\n",
       "      <td>0.7033</td>\n",
       "      <td>jnardino</td>\n",
       "      <td>@VirginAmerica it's really aggressive to blast...</td>\n",
       "      <td>NaN</td>\n",
       "      <td>Virgin America</td>\n",
       "    </tr>\n",
       "    <tr>\n",
       "      <th>2015-02-24 11:14:45 -0800</th>\n",
       "      <td>negative</td>\n",
       "      <td>1.0000</td>\n",
       "      <td>Can't Tell</td>\n",
       "      <td>1.0000</td>\n",
       "      <td>jnardino</td>\n",
       "      <td>@VirginAmerica and it's a really big bad thing...</td>\n",
       "      <td>NaN</td>\n",
       "      <td>Virgin America</td>\n",
       "    </tr>\n",
       "    <tr>\n",
       "      <th>2015-02-24 11:14:33 -0800</th>\n",
       "      <td>negative</td>\n",
       "      <td>1.0000</td>\n",
       "      <td>Can't Tell</td>\n",
       "      <td>0.6842</td>\n",
       "      <td>jnardino</td>\n",
       "      <td>@VirginAmerica seriously would pay $30 a fligh...</td>\n",
       "      <td>NaN</td>\n",
       "      <td>Virgin America</td>\n",
       "    </tr>\n",
       "    <tr>\n",
       "      <th>2015-02-24 11:13:57 -0800</th>\n",
       "      <td>positive</td>\n",
       "      <td>0.6745</td>\n",
       "      <td>NaN</td>\n",
       "      <td>0.0000</td>\n",
       "      <td>cjmcginnis</td>\n",
       "      <td>@VirginAmerica yes, nearly every time I fly VX...</td>\n",
       "      <td>NaN</td>\n",
       "      <td>Virgin America</td>\n",
       "    </tr>\n",
       "    <tr>\n",
       "      <th>2015-02-24 11:12:29 -0800</th>\n",
       "      <td>neutral</td>\n",
       "      <td>0.6340</td>\n",
       "      <td>NaN</td>\n",
       "      <td>NaN</td>\n",
       "      <td>pilot</td>\n",
       "      <td>@VirginAmerica Really missed a prime opportuni...</td>\n",
       "      <td>NaN</td>\n",
       "      <td>Virgin America</td>\n",
       "    </tr>\n",
       "    <tr>\n",
       "      <th>2015-02-24 11:11:19 -0800</th>\n",
       "      <td>positive</td>\n",
       "      <td>0.6559</td>\n",
       "      <td>NaN</td>\n",
       "      <td>NaN</td>\n",
       "      <td>dhepburn</td>\n",
       "      <td>@virginamerica Well, I didn't…but NOW I DO! :-D</td>\n",
       "      <td>NaN</td>\n",
       "      <td>Virgin America</td>\n",
       "    </tr>\n",
       "    <tr>\n",
       "      <th>2015-02-24 10:53:27 -0800</th>\n",
       "      <td>positive</td>\n",
       "      <td>1.0000</td>\n",
       "      <td>NaN</td>\n",
       "      <td>NaN</td>\n",
       "      <td>YupitsTate</td>\n",
       "      <td>@VirginAmerica it was amazing, and arrived an ...</td>\n",
       "      <td>NaN</td>\n",
       "      <td>Virgin America</td>\n",
       "    </tr>\n",
       "  </tbody>\n",
       "</table>\n",
       "</div>"
      ],
      "text/plain": [
       "                             Rating  Rating_Conf Negative_Reason  Reason_Conf  \\\n",
       "Date                                                                            \n",
       "2015-02-24 11:35:52 -0800   neutral       1.0000             NaN          NaN   \n",
       "2015-02-24 11:15:59 -0800  positive       0.3486             NaN       0.0000   \n",
       "2015-02-24 11:15:48 -0800   neutral       0.6837             NaN          NaN   \n",
       "2015-02-24 11:15:36 -0800  negative       1.0000      Bad Flight       0.7033   \n",
       "2015-02-24 11:14:45 -0800  negative       1.0000      Can't Tell       1.0000   \n",
       "2015-02-24 11:14:33 -0800  negative       1.0000      Can't Tell       0.6842   \n",
       "2015-02-24 11:13:57 -0800  positive       0.6745             NaN       0.0000   \n",
       "2015-02-24 11:12:29 -0800   neutral       0.6340             NaN          NaN   \n",
       "2015-02-24 11:11:19 -0800  positive       0.6559             NaN          NaN   \n",
       "2015-02-24 10:53:27 -0800  positive       1.0000             NaN          NaN   \n",
       "\n",
       "                                 User  \\\n",
       "Date                                    \n",
       "2015-02-24 11:35:52 -0800     cairdin   \n",
       "2015-02-24 11:15:59 -0800    jnardino   \n",
       "2015-02-24 11:15:48 -0800  yvonnalynn   \n",
       "2015-02-24 11:15:36 -0800    jnardino   \n",
       "2015-02-24 11:14:45 -0800    jnardino   \n",
       "2015-02-24 11:14:33 -0800    jnardino   \n",
       "2015-02-24 11:13:57 -0800  cjmcginnis   \n",
       "2015-02-24 11:12:29 -0800       pilot   \n",
       "2015-02-24 11:11:19 -0800    dhepburn   \n",
       "2015-02-24 10:53:27 -0800  YupitsTate   \n",
       "\n",
       "                                                                        Text  \\\n",
       "Date                                                                           \n",
       "2015-02-24 11:35:52 -0800                @VirginAmerica What @dhepburn said.   \n",
       "2015-02-24 11:15:59 -0800  @VirginAmerica plus you've added commercials t...   \n",
       "2015-02-24 11:15:48 -0800  @VirginAmerica I didn't today... Must mean I n...   \n",
       "2015-02-24 11:15:36 -0800  @VirginAmerica it's really aggressive to blast...   \n",
       "2015-02-24 11:14:45 -0800  @VirginAmerica and it's a really big bad thing...   \n",
       "2015-02-24 11:14:33 -0800  @VirginAmerica seriously would pay $30 a fligh...   \n",
       "2015-02-24 11:13:57 -0800  @VirginAmerica yes, nearly every time I fly VX...   \n",
       "2015-02-24 11:12:29 -0800  @VirginAmerica Really missed a prime opportuni...   \n",
       "2015-02-24 11:11:19 -0800    @virginamerica Well, I didn't…but NOW I DO! :-D   \n",
       "2015-02-24 10:53:27 -0800  @VirginAmerica it was amazing, and arrived an ...   \n",
       "\n",
       "                          Coordinates         airline  \n",
       "Date                                                   \n",
       "2015-02-24 11:35:52 -0800         NaN  Virgin America  \n",
       "2015-02-24 11:15:59 -0800         NaN  Virgin America  \n",
       "2015-02-24 11:15:48 -0800         NaN  Virgin America  \n",
       "2015-02-24 11:15:36 -0800         NaN  Virgin America  \n",
       "2015-02-24 11:14:45 -0800         NaN  Virgin America  \n",
       "2015-02-24 11:14:33 -0800         NaN  Virgin America  \n",
       "2015-02-24 11:13:57 -0800         NaN  Virgin America  \n",
       "2015-02-24 11:12:29 -0800         NaN  Virgin America  \n",
       "2015-02-24 11:11:19 -0800         NaN  Virgin America  \n",
       "2015-02-24 10:53:27 -0800         NaN  Virgin America  "
      ]
     },
     "execution_count": 120,
     "metadata": {},
     "output_type": "execute_result"
    }
   ],
   "source": [
    "def clean_df(df):\n",
    "    df = df.loc[: , ['airline_sentiment', \n",
    "                         'airline_sentiment_confidence',\n",
    "                         'negativereason',\n",
    "                         'negativereason_confidence',              \n",
    "                         'name',\n",
    "                         'text',\n",
    "                         'tweet_coord',\n",
    "                         'tweet_created',\n",
    "                         'airline']].rename(columns = {'airline_sentiment':'Rating',\n",
    "                                                             'airline_sentiment_confidence':'Rating_Conf',\n",
    "                                                             'negativereason':'Negative_Reason',\n",
    "                                                             'negativereason_confidence':'Reason_Conf',\n",
    "                                                             'name':'User',\n",
    "                                                             'text':'Text',\n",
    "                                                             'tweet_coord':'Coordinates',\n",
    "                                                             'tweet_created':'Date'}).set_index('Date')\n",
    "    return df\n",
    "clean_df(df).head(10)"
   ]
  },
  {
   "cell_type": "markdown",
   "metadata": {},
   "source": [
    "Now that we have reduced our dataframe to it's desired form, we can now do some more investigating of our data. Whoever has compiled the data for us was nice enough to already extract the airlines from the tweet text and chronicle them for us in the \"airline\" column\". Let's inspect the airlines and get a general sense of how keen the public is on them."
   ]
  },
  {
   "cell_type": "code",
   "execution_count": 5,
   "metadata": {},
   "outputs": [
    {
     "name": "stdout",
     "output_type": "stream",
     "text": [
      "airline\n",
      "American          2759\n",
      "Delta             2222\n",
      "Southwest         2420\n",
      "US Airways        2913\n",
      "United            3822\n",
      "Virgin America     504\n",
      "Name: Rating, dtype: int64\n"
     ]
    }
   ],
   "source": [
    "#Groupby airline, and reference the ratings column and then extract total count\n",
    "print(clean_df(df).groupby('airline')['Rating'].count())\n"
   ]
  },
  {
   "cell_type": "markdown",
   "metadata": {},
   "source": [
    "By grouping the data by airlines and indexing each of their ratings, we can see that there are 2759 tweets pertaining to american airlines, 2222 to delta, etc etc. But this doesn't give us full insight as to how many of each tweet is postive, neutral, or negative. Lets regroup our dataframe and extract the lower level details of each airlines ratings."
   ]
  },
  {
   "cell_type": "code",
   "execution_count": 6,
   "metadata": {},
   "outputs": [
    {
     "name": "stdout",
     "output_type": "stream",
     "text": [
      "airline         Rating  \n",
      "American        negative    1960\n",
      "                neutral      463\n",
      "                positive     336\n",
      "Delta           negative     955\n",
      "                neutral      723\n",
      "                positive     544\n",
      "Southwest       negative    1186\n",
      "                neutral      664\n",
      "                positive     570\n",
      "US Airways      negative    2263\n",
      "                neutral      381\n",
      "                positive     269\n",
      "United          negative    2633\n",
      "                neutral      697\n",
      "                positive     492\n",
      "Virgin America  negative     181\n",
      "                neutral      171\n",
      "                positive     152\n",
      "Name: Rating_Conf, dtype: int64\n"
     ]
    }
   ],
   "source": [
    "#groupby both airlines and rating and extract total count\n",
    "print(clean_df(df).groupby(['airline','Rating']).count().iloc[:,0])"
   ]
  },
  {
   "cell_type": "markdown",
   "metadata": {},
   "source": [
    "After applying the groupby method, we can see that there's quite a few people that aren't too happy with United airlines. But this layout is very messy and a little hard to read. Nothing tells a story quite like pictures do, so let's illustrate what is above"
   ]
  },
  {
   "cell_type": "code",
   "execution_count": 7,
   "metadata": {},
   "outputs": [
    {
     "data": {
      "image/png": "[encoded data removed]",
      "text/plain": [
       "<matplotlib.figure.Figure at 0x7fea1895acc0>"
      ]
     },
     "metadata": {},
     "output_type": "display_data"
    }
   ],
   "source": [
    "#create a graph by calling our clean_data function and then plots the total number of each tweet rating (positive,negative, or neutral)\n",
    "ax = clean_df(df).groupby(['airline','Rating']).count().iloc[:,0].unstack(0).plot(kind = 'bar', title = 'Airline Ratings via Twitter')\n",
    "ax.set_xlabel('Rating')\n",
    "ax.set_ylabel('Rating Count')\n",
    "\n",
    "\n",
    "plt.show()\n"
   ]
  },
  {
   "cell_type": "markdown",
   "metadata": {},
   "source": [
    "So now that we painted the picture, it's very clear that United is indeed not a fan favorite. US Airways is a very close second. But this isn't normalizing the data. We can see to the far right over there, that Virgin America isn't really talked about all that much. So we need to correlate the number of negative tweets to the total number of tweets sent about a particular airline. What percentage of all tweets are negative for each airline.\n"
   ]
  },
  {
   "cell_type": "code",
   "execution_count": 8,
   "metadata": {},
   "outputs": [
    {
     "name": "stdout",
     "output_type": "stream",
     "text": [
      "            Percent Negative\n",
      "American            0.710402\n",
      "Delta               0.429793\n",
      "Southwest           0.490083\n",
      "US Airways          0.776862\n",
      "United              0.688906\n",
      "Virgin              0.359127\n"
     ]
    },
    {
     "data": {
      "image/png": "[encoded data removed]",
      "text/plain": [
       "<matplotlib.figure.Figure at 0x7fea19a46588>"
      ]
     },
     "metadata": {},
     "output_type": "display_data"
    }
   ],
   "source": [
    "#Count of all tweet ratings for each airline (negative, neutral, positive)\n",
    "itemized_tweets = clean_df(df).groupby(['airline','Rating']).count().iloc[:,0]\n",
    "#Negative tweet total index for each airline:\n",
    "#American 0\n",
    "#Delta 3\n",
    "#southwest 6\n",
    "#US Airways 9\n",
    "#United 12\n",
    "#Virgin 15\n",
    "\n",
    "#Count of total tweets about an airline\n",
    "total_tweets = clean_df(df).groupby(['airline'])['Rating'].count()\n",
    "#Airline index in total tweets:\n",
    "#American 0\n",
    "#Delta 1\n",
    "#Southwest 2\n",
    "#US Airways 3\n",
    "#United 4\n",
    "#Virgin 5\n",
    "\n",
    "\n",
    "#Create a dictionary of percentage of negative tweets = (negative_tweets / total_tweets)\n",
    "my_dict = {'American':itemized_tweets[0] / total_tweets[0],\n",
    "           'Delta':itemized_tweets[3] / total_tweets[1],\n",
    "           'Southwest': itemized_tweets[6] / total_tweets[2],\n",
    "           'US Airways': itemized_tweets[9] / total_tweets[3],\n",
    "           'United': itemized_tweets[12] / total_tweets[4],\n",
    "           'Virgin': itemized_tweets[15] / total_tweets[5]}\n",
    "\n",
    "#make a dataframe from the dictionary\n",
    "perc_negative = pd.DataFrame.from_dict(my_dict, orient = 'index')\n",
    "#have to manually set column name when using .from_dict() method\n",
    "perc_negative.columns = ['Percent Negative']\n",
    "print(perc_negative)\n",
    "ax = perc_negative.plot(kind = 'bar', rot=0, colormap = 'Blues_r', figsize = (15,6))\n",
    "ax.set_xlabel('Airlines')\n",
    "ax.set_ylabel('Percent Negative')\n",
    "plt.show()\n"
   ]
  },
  {
   "cell_type": "markdown",
   "metadata": {},
   "source": [
    "This levels the playing field a little bit, and here we can see that even though United had the most negative tweets by far, they still only made up only 68% of all their tweets. Whereas US Airways and American had higher percentages at 77 and 71 percent respectively. This means that they might not be talking about American or US Airways as much as United, but when they are, it's mostly negative. Lets see what percentage makes up the positive tweets for each airline"
   ]
  },
  {
   "cell_type": "code",
   "execution_count": 9,
   "metadata": {},
   "outputs": [
    {
     "name": "stdout",
     "output_type": "stream",
     "text": [
      "            Percent Positive\n",
      "American            0.121783\n",
      "Delta               0.244824\n",
      "Southwest           0.235537\n",
      "US Airways          0.092345\n",
      "United              0.128728\n",
      "Virgin              0.301587\n"
     ]
    },
    {
     "data": {
      "image/png": "[encoded data removed]",
      "text/plain": [
       "<matplotlib.figure.Figure at 0x7fea19aa4ef0>"
      ]
     },
     "metadata": {},
     "output_type": "display_data"
    }
   ],
   "source": [
    "itemized_tweets = clean_df(df).groupby(['airline','Rating']).count().iloc[:,0]\n",
    "#Positve tweet total index for each airline:\n",
    "#American 2\n",
    "#Delta 5\n",
    "#southwest 8\n",
    "#US Airways 11\n",
    "#United 14\n",
    "#Virgin 17\n",
    "\n",
    "total_tweets = clean_df(df).groupby(['airline'])['Rating'].count()\n",
    "#Airline index in total tweets:\n",
    "#American 0\n",
    "#Delta 1\n",
    "#Southwest 2\n",
    "#US Airways 3\n",
    "#United 4\n",
    "#Virgin 5\n",
    "\n",
    "\n",
    "#Create a dictionary of percentage of positive tweets = (positive_tweets / total_tweets)\n",
    "my_dict = {'American':itemized_tweets[2] / total_tweets[0],\n",
    "           'Delta':itemized_tweets[5] / total_tweets[1],\n",
    "           'Southwest': itemized_tweets[8] / total_tweets[2],\n",
    "           'US Airways': itemized_tweets[11] / total_tweets[3],\n",
    "           'United': itemized_tweets[14] / total_tweets[4],\n",
    "           'Virgin': itemized_tweets[17] / total_tweets[5]}\n",
    "\n",
    "#make a dataframe from the dictionary\n",
    "perc_positive = pd.DataFrame.from_dict(my_dict, orient = 'index')\n",
    "#have to manually set column name when using .from_dict() method\n",
    "perc_positive.columns = ['Percent Positive']\n",
    "print(perc_positive)\n",
    "ax = perc_positive.plot(kind = 'bar', rot=0, colormap = 'Blues_r', figsize = (15,6))\n",
    "ax.set_xlabel('Airlines')\n",
    "ax.set_ylabel('Percent Positve')\n",
    "plt.show()\n"
   ]
  },
  {
   "cell_type": "markdown",
   "metadata": {},
   "source": [
    "Oh US Airways, it started off looking like United was going to win crown of \"Worst Airlines\". But with only 9% positive tweets, it's more and more starting to look like I shouldn't fly with you. Obviously the last metric would be graphing out the neutral tweets, but that doesn't tell us a whole lot. Let's put all 3 categories together and paint one single picture instead of 3 seperate pages."
   ]
  },
  {
   "cell_type": "code",
   "execution_count": 10,
   "metadata": {
    "collapsed": true
   },
   "outputs": [],
   "source": [
    "#create a function that will concatenate our perc_negative, perc_neutral and perc_positive dataframes into one single dataframe\n",
    "def merge_dfs(x,y,z):\n",
    "    #generate a list of the dataframes\n",
    "    list_of_dfs = [x,y,z]\n",
    "    #concatenate the dataframes, axis = 1 because they all have the same index, we just want to add the columns together\n",
    "    concatenated_dataframe = pd.concat(list_of_dfs, axis = 1)\n",
    "    return concatenated_dataframe"
   ]
  },
  {
   "cell_type": "markdown",
   "metadata": {},
   "source": [
    "We created a function that will concatnenate our previous dictionaries of percentages. Now we must create another dictionary of the percentages of neutral tweets, and then combine them all together."
   ]
  },
  {
   "cell_type": "code",
   "execution_count": 11,
   "metadata": {},
   "outputs": [
    {
     "name": "stdout",
     "output_type": "stream",
     "text": [
      "            Percent Neutral  Percent Negative  Percent Positive\n",
      "American           0.167814          0.710402          0.121783\n",
      "Delta              0.325383          0.429793          0.244824\n",
      "Southwest          0.274380          0.490083          0.235537\n",
      "US Airways         0.130793          0.776862          0.092345\n",
      "United             0.182365          0.688906          0.128728\n",
      "Virgin             0.339286          0.359127          0.301587\n"
     ]
    },
    {
     "data": {
      "image/png": "[encoded data removed]",
      "text/plain": [
       "<matplotlib.figure.Figure at 0x7fea19b78ba8>"
      ]
     },
     "metadata": {},
     "output_type": "display_data"
    }
   ],
   "source": [
    "itemized_tweets = clean_df(df).groupby(['airline','Rating']).count().iloc[:,0]\n",
    "#Netural tweet total index for each airline:\n",
    "#American 1\n",
    "#Delta 4\n",
    "#southwest 7\n",
    "#US Airways 10\n",
    "#United 13\n",
    "#Virgin 16\n",
    "\n",
    "total_tweets = clean_df(df).groupby(['airline'])['Rating'].count()\n",
    "#Airline index in total tweets:\n",
    "#American 0\n",
    "#Delta 1\n",
    "#Southwest 2\n",
    "#US Airways 3\n",
    "#United 4\n",
    "#Virgin 5\n",
    "\n",
    "\n",
    "#Create a dictionary of percentage of positive tweets = (positive_tweets / total_tweets)\n",
    "my_dict = {'American':itemized_tweets[1] / total_tweets[0],\n",
    "           'Delta':itemized_tweets[4] / total_tweets[1],\n",
    "           'Southwest': itemized_tweets[7] / total_tweets[2],\n",
    "           'US Airways': itemized_tweets[10] / total_tweets[3],\n",
    "           'United': itemized_tweets[13] / total_tweets[4],\n",
    "           'Virgin': itemized_tweets[16] / total_tweets[5]}\n",
    "\n",
    "#make a dataframe from the dictionary\n",
    "perc_neutral = pd.DataFrame.from_dict(my_dict, orient = 'index')\n",
    "#Have to manually set column name\n",
    "perc_neutral.columns = ['Percent Neutral']\n",
    "\n",
    "#call our function to concatenate all 3 dataframes of percentages\n",
    "percentage = merge_dfs(perc_neutral, perc_negative, perc_positive)\n",
    "print(percentage)\n",
    "\n",
    "#graph all of our data\n",
    "ax = percentage.plot(kind = 'bar', stacked = True, rot = 0, figsize = (15,6))\n",
    "#set x label\n",
    "ax.set_xlabel('Airlines')\n",
    "#set y label\n",
    "ax.set_ylabel('Percentages')\n",
    "#move the legend to the bottom of the graph since it wants to sit over all of our data and block it - stupid legend\n",
    "ax.legend(loc='upper center', bbox_to_anchor=(0.5, -0.1),\n",
    "          fancybox=True, shadow=True, ncol=5)\n",
    "\n",
    "plt.show()"
   ]
  },
  {
   "cell_type": "markdown",
   "metadata": {},
   "source": [
    "So we just did a good bit of analysis on our data, but we got so focused on what we've been working on, that we got sidetracked from inspecting all of our data. From initial analysis, it's looking like United made a lot of people unhappy. However we took advantage of one particular caveat. We assumed that whomever compiled all the data for us, correctly identified the airline being referenced in the tweet text. I purposely carried on like this because this **ACTUALLY HAPPENED TO ME!** And it highlights some headaches you will come across when dealing with realworld messy data. Lets look at some of the tweet text and compare it to the airline being referenced"
   ]
  },
  {
   "cell_type": "code",
   "execution_count": 12,
   "metadata": {},
   "outputs": [
    {
     "name": "stdout",
     "output_type": "stream",
     "text": [
      "Airline as compiled: Delta\n",
      "The actual tweet text: \n",
      "@JetBlue everyone is here but our pilots are no where to be found and my last flight the plane was dirty that I had to clean my area &amp; seat! \n",
      "\n",
      "\n",
      "Airline as compiled: Delta\n",
      "The actual tweet text: \n",
      "@JetBlue update on Flight 462 would be appreciated when you have time, thanks \n",
      "\n",
      "\n",
      "Airline as compiled: Delta\n",
      "The actual tweet text: \n",
      "@JetBlue check DM please :) \n",
      "\n",
      "\n",
      "Airline as compiled: Delta\n",
      "The actual tweet text: \n",
      "@JetBlue Hey guys, why did my last flight earn me 0 pts? http://t.co/1syWlmTZek \n",
      "\n",
      "\n",
      "Airline as compiled: Delta\n",
      "The actual tweet text: \n",
      "@JetBlue 2 aisles of empty #evermoreroom seats and we can't move bc we didn't pay?! #nonsense #Waste #JetBlue #jetbluebos #cheap \n",
      "\n",
      "\n"
     ]
    }
   ],
   "source": [
    "observation = list(clean_df(df).reset_index().iloc[6750:6755,8])\n",
    "tweet_text = list(clean_df(df).reset_index().iloc[6750:6755,6])\n",
    "\n",
    "for pos, item in enumerate(observation):\n",
    "    print('Airline as compiled: ' + str(item))\n",
    "    print('The actual tweet text: ')\n",
    "    print(tweet_text[pos], '\\n''\\n')"
   ]
  },
  {
   "cell_type": "markdown",
   "metadata": {},
   "source": [
    "### Well crap!!! \n",
    "We did all that work, and the data in the table was incorrect. As we can see in those particular locations, Delta was tagged as the Airline being referenced in the tweet. But when we look at the actual text we can see it was really Jet Blue being referenced. This actually happened to me when dealing with the data the first time. We now must get rid of the 'Airline' column in the dataframe, parse all the tweet text and pullout the proper airline being referenced in all Tweets. Sure, whoever compiled this probably didn't get **All** of them wrong, but do you really want to scroll through 14k+ lines of data to check. Let's just make some code that parses through for us."
   ]
  },
  {
   "cell_type": "code",
   "execution_count": 13,
   "metadata": {},
   "outputs": [
    {
     "data": {
      "text/html": [
       "<div>\n",
       "<table border=\"1\" class=\"dataframe\">\n",
       "  <thead>\n",
       "    <tr style=\"text-align: right;\">\n",
       "      <th></th>\n",
       "      <th>Rating</th>\n",
       "      <th>Rating_Conf</th>\n",
       "      <th>Negative_Reason</th>\n",
       "      <th>Reason_Conf</th>\n",
       "      <th>User</th>\n",
       "      <th>Text</th>\n",
       "      <th>Coordinates</th>\n",
       "    </tr>\n",
       "    <tr>\n",
       "      <th>Date</th>\n",
       "      <th></th>\n",
       "      <th></th>\n",
       "      <th></th>\n",
       "      <th></th>\n",
       "      <th></th>\n",
       "      <th></th>\n",
       "      <th></th>\n",
       "    </tr>\n",
       "  </thead>\n",
       "  <tbody>\n",
       "    <tr>\n",
       "      <th>2015-02-24 11:35:52 -0800</th>\n",
       "      <td>neutral</td>\n",
       "      <td>1.0000</td>\n",
       "      <td>NaN</td>\n",
       "      <td>NaN</td>\n",
       "      <td>cairdin</td>\n",
       "      <td>@VirginAmerica What @dhepburn said.</td>\n",
       "      <td>NaN</td>\n",
       "    </tr>\n",
       "    <tr>\n",
       "      <th>2015-02-24 11:15:59 -0800</th>\n",
       "      <td>positive</td>\n",
       "      <td>0.3486</td>\n",
       "      <td>NaN</td>\n",
       "      <td>0.0000</td>\n",
       "      <td>jnardino</td>\n",
       "      <td>@VirginAmerica plus you've added commercials t...</td>\n",
       "      <td>NaN</td>\n",
       "    </tr>\n",
       "    <tr>\n",
       "      <th>2015-02-24 11:15:48 -0800</th>\n",
       "      <td>neutral</td>\n",
       "      <td>0.6837</td>\n",
       "      <td>NaN</td>\n",
       "      <td>NaN</td>\n",
       "      <td>yvonnalynn</td>\n",
       "      <td>@VirginAmerica I didn't today... Must mean I n...</td>\n",
       "      <td>NaN</td>\n",
       "    </tr>\n",
       "    <tr>\n",
       "      <th>2015-02-24 11:15:36 -0800</th>\n",
       "      <td>negative</td>\n",
       "      <td>1.0000</td>\n",
       "      <td>Bad Flight</td>\n",
       "      <td>0.7033</td>\n",
       "      <td>jnardino</td>\n",
       "      <td>@VirginAmerica it's really aggressive to blast...</td>\n",
       "      <td>NaN</td>\n",
       "    </tr>\n",
       "    <tr>\n",
       "      <th>2015-02-24 11:14:45 -0800</th>\n",
       "      <td>negative</td>\n",
       "      <td>1.0000</td>\n",
       "      <td>Can't Tell</td>\n",
       "      <td>1.0000</td>\n",
       "      <td>jnardino</td>\n",
       "      <td>@VirginAmerica and it's a really big bad thing...</td>\n",
       "      <td>NaN</td>\n",
       "    </tr>\n",
       "  </tbody>\n",
       "</table>\n",
       "</div>"
      ],
      "text/plain": [
       "                             Rating  Rating_Conf Negative_Reason  Reason_Conf  \\\n",
       "Date                                                                            \n",
       "2015-02-24 11:35:52 -0800   neutral       1.0000             NaN          NaN   \n",
       "2015-02-24 11:15:59 -0800  positive       0.3486             NaN       0.0000   \n",
       "2015-02-24 11:15:48 -0800   neutral       0.6837             NaN          NaN   \n",
       "2015-02-24 11:15:36 -0800  negative       1.0000      Bad Flight       0.7033   \n",
       "2015-02-24 11:14:45 -0800  negative       1.0000      Can't Tell       1.0000   \n",
       "\n",
       "                                 User  \\\n",
       "Date                                    \n",
       "2015-02-24 11:35:52 -0800     cairdin   \n",
       "2015-02-24 11:15:59 -0800    jnardino   \n",
       "2015-02-24 11:15:48 -0800  yvonnalynn   \n",
       "2015-02-24 11:15:36 -0800    jnardino   \n",
       "2015-02-24 11:14:45 -0800    jnardino   \n",
       "\n",
       "                                                                        Text  \\\n",
       "Date                                                                           \n",
       "2015-02-24 11:35:52 -0800                @VirginAmerica What @dhepburn said.   \n",
       "2015-02-24 11:15:59 -0800  @VirginAmerica plus you've added commercials t...   \n",
       "2015-02-24 11:15:48 -0800  @VirginAmerica I didn't today... Must mean I n...   \n",
       "2015-02-24 11:15:36 -0800  @VirginAmerica it's really aggressive to blast...   \n",
       "2015-02-24 11:14:45 -0800  @VirginAmerica and it's a really big bad thing...   \n",
       "\n",
       "                          Coordinates  \n",
       "Date                                   \n",
       "2015-02-24 11:35:52 -0800         NaN  \n",
       "2015-02-24 11:15:59 -0800         NaN  \n",
       "2015-02-24 11:15:48 -0800         NaN  \n",
       "2015-02-24 11:15:36 -0800         NaN  \n",
       "2015-02-24 11:14:45 -0800         NaN  "
      ]
     },
     "execution_count": 13,
     "metadata": {},
     "output_type": "execute_result"
    }
   ],
   "source": [
    "#let's start by getting rid of the current 'Airline' column\n",
    "#'Airline' was the last column (8) so we just sliced the dataframe, stopping at column (7) 'Coordinates'\n",
    "new_df = clean_df(df).iloc[:,0:7]\n",
    "new_df.head()"
   ]
  },
  {
   "cell_type": "markdown",
   "metadata": {},
   "source": [
    "We now need to extract the right airline from the tweet text. Examining it, we can see that all airlines references are preceded by an '@' symbol. We all know this is a common twitter tag, so by looking for this, we can extract the airline being talked about. Be wary though, some of the texts can have more than just the airline tagged in it. But this is where we will start, using a regular expression that will find all instances of the '@' symbol. Looking at the majority of the tweet text, the airline is usually the first '@' tag in the text in the event their are multiple. So we will make the general assumption that during our regular expression search, when there are multiple '@' tags, the airline will be the first one. "
   ]
  },
  {
   "cell_type": "code",
   "execution_count": 14,
   "metadata": {},
   "outputs": [
    {
     "data": {
      "text/plain": [
       "['@VirginAmerica',\n",
       " '@VirginAmerica',\n",
       " '@VirginAmerica',\n",
       " '@VirginAmerica',\n",
       " '@VirginAmerica',\n",
       " '@VirginAmerica',\n",
       " '@VirginAmerica',\n",
       " '@VirginAmerica',\n",
       " '@virginamerica',\n",
       " '@VirginAmerica']"
      ]
     },
     "execution_count": 14,
     "metadata": {},
     "output_type": "execute_result"
    }
   ],
   "source": [
    "#first, create a new column called 'Airline'\n",
    "#Then reference the 'text' column to apply your regular expression function to\n",
    "#apply a lambda function that parses through each tweet text and searches for '@' symbol followed by any letter type\n",
    "#extract the first matched instance [0] in the event there are multiple\n",
    "new_df['Airline'] = new_df.Text.apply(lambda x: re.findall('\\@[A-Za-z]+', x)[0])\n",
    "\n",
    "#check that our regular expression is working\n",
    "list(new_df.Airline.head(10))"
   ]
  },
  {
   "cell_type": "markdown",
   "metadata": {},
   "source": [
    "Ok, so with 14k+ lines of data, there's no telling what all our regular expression function found. So to help figure this out, lets list all the unique items it found. From this, we can see all the airlines it extracted, plus any other tag that was referenced first in a tweet text before the airline tag."
   ]
  },
  {
   "cell_type": "code",
   "execution_count": 15,
   "metadata": {},
   "outputs": [
    {
     "data": {
      "text/plain": [
       "[('@AlbertBreer', 1),\n",
       " ('@AmericanAir', 2722),\n",
       " ('@AndrewFallis', 1),\n",
       " ('@CatfoodBeerGlue', 1),\n",
       " ('@DadBoner', 1),\n",
       " ('@DeltaAssist', 2),\n",
       " ('@HillAConlin', 1),\n",
       " ('@Imaginedragons', 1),\n",
       " ('@InternJohnRadio', 1),\n",
       " ('@JetBlue', 2167),\n",
       " ('@Jetblue', 4),\n",
       " ('@KCIAirport', 1),\n",
       " ('@MandarinJourney', 1),\n",
       " ('@MelissaAFrancis', 1),\n",
       " ('@NinaDavuluri', 1),\n",
       " ('@Sb', 1),\n",
       " ('@SouthwestAir', 2370),\n",
       " ('@Southwestair', 2),\n",
       " ('@USAIRWAYS', 1),\n",
       " ('@USAirways', 2817),\n",
       " ('@USairways', 2),\n",
       " ('@United', 122),\n",
       " ('@UsAirways', 2),\n",
       " ('@Usairways', 2),\n",
       " ('@VirginAmerica', 486),\n",
       " ('@americanair', 32),\n",
       " ('@chasefoster', 1),\n",
       " ('@djevolutionhd', 1),\n",
       " ('@eatgregeat', 1),\n",
       " ('@jetblue', 44),\n",
       " ('@lindaSWC', 1),\n",
       " ('@malhoit', 1),\n",
       " ('@nrhodes', 2),\n",
       " ('@nytimes', 1),\n",
       " ('@ods', 1),\n",
       " ('@sarahpompei', 1),\n",
       " ('@scm', 1),\n",
       " ('@shannonwoodward', 1),\n",
       " ('@southwestAir', 1),\n",
       " ('@southwestair', 44),\n",
       " ('@timbennettg', 1),\n",
       " ('@united', 3695),\n",
       " ('@usairways', 81),\n",
       " ('@vanessaannz', 1),\n",
       " ('@virginAmerica', 1),\n",
       " ('@virginamerica', 17)]"
      ]
     },
     "execution_count": 15,
     "metadata": {},
     "output_type": "execute_result"
    }
   ],
   "source": [
    "#get all unique twitter tags and the count for how many times it appears in the column\n",
    "twitter_tags = np.unique(new_df.Airline, return_counts = True)\n",
    "\n",
    "#compile twitter_tags so that it lists the unique tag and its total count side by side instead of 2 seperate arrays\n",
    "twitter_tags_count = list(zip(twitter_tags[0],twitter_tags[1]))\n",
    "twitter_tags_count"
   ]
  },
  {
   "cell_type": "markdown",
   "metadata": {},
   "source": [
    "So our assumption that the airline is referenced before any other tag was a pretty good guess. We did return some other users twitter names, but for the most part, we got all airline references. We can also see that Jet blue was reference **Alot**. In our original dataframe, there was no mention of Jet Blue. Next, we need to go through the unique list and compile all the airlines referenced into a list. Notice that the airlines are referenced multiple times, this is because they are camel case. When searching for \"unique\" items, @virginAmerica is different than @virginamerica due to the one capital letter. So we need to refine our regular expression search, looking not only for the airlines, but ignoring the camel case so that all spellings of an airline are equal"
   ]
  },
  {
   "cell_type": "code",
   "execution_count": 16,
   "metadata": {},
   "outputs": [
    {
     "name": "stdout",
     "output_type": "stream",
     "text": [
      "['VirginAmerica', 'VirginAmerica', 'VirginAmerica', 'VirginAmerica', 'VirginAmerica', 'VirginAmerica', 'VirginAmerica', 'VirginAmerica', 'virginamerica', 'VirginAmerica']\n"
     ]
    }
   ],
   "source": [
    "#List of all airlines in the data as found from the tweets in search above\n",
    "airline_list = ['@virginamerica','@united','@southwestair','@americanair','@jetblue','@usairways']\n",
    "    \n",
    "#compile a regex search to seperate out only the airline tag and ignoring other users tags in the text\n",
    "#using the compile method is an easier way to input our \"match\" pattern into the search engine, especially in this event\n",
    "#when we are searching for mulitple airlines.\n",
    "#we are ignoring case, or capitaliztion  in order to negate all the uniquess we encountered in the list above\n",
    "airlines = re.compile('|'.join(airline_list), re.IGNORECASE)\n",
    "    \n",
    "#apply the compiled regex search and remove the twitter tag '@'\n",
    "#for example, the following code takes @AmericanAir and returns AmericanAir\n",
    "new_df['Airline'] = new_df.Airline.apply(lambda x: np.squeeze(re.findall(airlines, x))).str.split('@').str[1]\n",
    "print(list(new_df.Airline.head(10)))"
   ]
  },
  {
   "cell_type": "markdown",
   "metadata": {},
   "source": [
    "Great, so now we have found only the airlines, and removed the '@' tag from them. But what happened to the rows where the airline didn't come first and we extracted a users name instead? Well by default, they were filled in with NaN since they didn't match anything in the matching patter. The code below uses boolean logic to filter the data frame and find the index locations of those tweets, and displays all '@' tags that was referenced in the tweet text. This step is needed so we could find those locations that did not have an airline in place, and manually set the values for these locations in the dataframe"
   ]
  },
  {
   "cell_type": "code",
   "execution_count": 17,
   "metadata": {},
   "outputs": [
    {
     "data": {
      "text/plain": [
       "737                              [@lindaSWC, @united]\n",
       "868                       [@MandarinJourney, @united]\n",
       "1088                      [@MelissaAFrancis, @United]\n",
       "4013                             [@DadBoner, @united]\n",
       "4604                 [@Imaginedragons, @SouthwestAir]\n",
       "5614                     [@KCIAirport, @SouthwestAir]\n",
       "6136     [@InternJohnRadio, @mrerickv, @SouthwestAir]\n",
       "6362                    [@HillAConlin, @SouthwestAir]\n",
       "6796                     [@CatfoodBeerGlue, @JetBlue]\n",
       "6811                          [@eatgregeat, @JetBlue]\n",
       "6906                             [@nytimes, @JetBlue]\n",
       "7330                               [@shannonwoodward]\n",
       "8215                                  [@NinaDavuluri]\n",
       "10243                               [@Sb, @USAirways]\n",
       "10517                      [@timbennettg, @USAirways]\n",
       "10799                          [@nrhodes, @USAirways]\n",
       "10864                      [@sarahpompei, @USAirways]\n",
       "10874                     [@AndrewFallis, @USAirways]\n",
       "10876                          [@nrhodes, @USAirways]\n",
       "11159        [@AlbertBreer, @USAirways, @AmericanAir]\n",
       "11430                              [@scm, @USAirways]\n",
       "12038                                  [@DeltaAssist]\n",
       "12039                                  [@DeltaAssist]\n",
       "12222                            [@ods, @AmericanAir]\n",
       "12417                    [@chasefoster, @AmericanAir]\n",
       "12585                  [@djevolutionhd, @AmericanAir]\n",
       "13491                        [@malhoit, @AmericanAir]\n",
       "13979                    [@vanessaannz, @AmericanAir]\n",
       "Name: Text, dtype: object"
      ]
     },
     "execution_count": 17,
     "metadata": {},
     "output_type": "execute_result"
    }
   ],
   "source": [
    "no_airline = new_df.reset_index()\n",
    "no_airline = no_airline[no_airline.Airline.isnull()].Text.apply(lambda x: re.findall('\\@[A-Za-z]+', x))\n",
    "no_airline"
   ]
  },
  {
   "cell_type": "markdown",
   "metadata": {},
   "source": [
    "Great, so now we can see where the null values are located because the first '@' tag is a user's name, and what airline was supposed to be referenced. Now we can manually set these, and then our 'Airline' column will be up to date and correct. One little issue here, indices 7330 and  8215 didn't have any '@' tag with an airline next to it, so we are just going to have to read the tweet text manually and extract that for ourselves. But don't worry, I did that for you already =) "
   ]
  },
  {
   "cell_type": "code",
   "execution_count": 18,
   "metadata": {},
   "outputs": [
    {
     "data": {
      "text/plain": [
       "array(['American Airlines', 'Delta Airlines', 'Jet Blue',\n",
       "       'Southwest Airlines', 'US Airways', 'United Airlines',\n",
       "       'Virgin Airlines'], dtype=object)"
      ]
     },
     "execution_count": 18,
     "metadata": {},
     "output_type": "execute_result"
    }
   ],
   "source": [
    "#reset the index of our dataframe\n",
    "new_df = new_df.reset_index()\n",
    "\n",
    "#compile a list of index locations of the tweets that return null and set their airline value to the appropriate\n",
    "#airline referenced in the tweet\n",
    "united = [737,868,1088,4013]\n",
    "southwest = [4604,5614,5615,6136,6362]\n",
    "jetblue = [6796,6811,6906]\n",
    "usairways = [7330, 8215,10243,10517,10799,10864,10874,10876,11430]\n",
    "american = [11159,12222,12417,12585,13491,13979]\n",
    "delta = [12038, 12039]\n",
    "new_df.set_value(united,'Airline','united')\n",
    "new_df.set_value(southwest,'Airline','southwestair')\n",
    "new_df.set_value(jetblue,'Airline','jetblue')\n",
    "new_df.set_value(usairways,'Airline','usairways')\n",
    "new_df.set_value(american,'Airline','americanair')\n",
    "new_df.set_value(delta,'Airline','delta')\n",
    "    \n",
    "#Since all airlines tweets are camel case in different orders, make all airlines uppercase so they are all equal\n",
    "new_df.Airline = new_df.Airline.apply(lambda x: x.upper())\n",
    "    \n",
    "#create a dictionary to map the all uppercase airlines to the proper naming convention\n",
    "map_airline = {'AMERICANAIR':'American Airlines',\n",
    "                'JETBLUE':'Jet Blue',\n",
    "                'SOUTHWESTAIR':'Southwest Airlines',\n",
    "                'UNITED': 'United Airlines',\n",
    "                'USAIRWAYS': 'US Airways',\n",
    "                'VIRGINAMERICA':'Virgin Airlines',\n",
    "                'DELTA':'Delta Airlines'}\n",
    "    \n",
    "#map the uppercase airlines to the proper naming convention\n",
    "new_df.Airline = new_df.Airline.map(map_airline)\n",
    "\n",
    "#display our new airlines!!!\n",
    "np.unique(new_df.Airline)"
   ]
  },
  {
   "cell_type": "markdown",
   "metadata": {},
   "source": [
    "Next order of busines - Continuing to inspect our data before continuing on with any analysis! We don't need another headache. When trying to display truthful data, we need to decide which data is truthful. When deciding what to rate the tweet text, the compiler also added a column \"Rating Confidence\". This is a percentage of how sure they are that the rating the gave was the proper rating. Let's inspect some of these"
   ]
  },
  {
   "cell_type": "code",
   "execution_count": 123,
   "metadata": {},
   "outputs": [
    {
     "name": "stdout",
     "output_type": "stream",
     "text": [
      "neutral \n",
      " 1.0 \n",
      " @VirginAmerica What @dhepburn said. \n",
      " \n",
      "\n",
      "positive \n",
      " 0.3486 \n",
      " @VirginAmerica plus you've added commercials to the experience... tacky. \n",
      " \n",
      "\n",
      "neutral \n",
      " 0.6837 \n",
      " @VirginAmerica I didn't today... Must mean I need to take another trip! \n",
      " \n",
      "\n",
      "negative \n",
      " 1.0 \n",
      " @VirginAmerica it's really aggressive to blast obnoxious \"entertainment\" in your guests' faces &amp; they have little recourse \n",
      " \n",
      "\n",
      "negative \n",
      " 1.0 \n",
      " @VirginAmerica and it's a really big bad thing about it \n",
      " \n",
      "\n",
      "negative \n",
      " 1.0 \n",
      " @VirginAmerica seriously would pay $30 a flight for seats that didn't have this playing.\n",
      "it's really the only bad thing about flying VA \n",
      " \n",
      "\n",
      "positive \n",
      " 0.6745 \n",
      " @VirginAmerica yes, nearly every time I fly VX this “ear worm” won’t go away :) \n",
      " \n",
      "\n",
      "neutral \n",
      " 0.634 \n",
      " @VirginAmerica Really missed a prime opportunity for Men Without Hats parody, there. https://t.co/mWpG7grEZP \n",
      " \n",
      "\n",
      "positive \n",
      " 0.6559 \n",
      " @virginamerica Well, I didn't…but NOW I DO! :-D \n",
      " \n",
      "\n",
      "positive \n",
      " 1.0 \n",
      " @VirginAmerica it was amazing, and arrived an hour early. You're too good to me. \n",
      " \n",
      "\n"
     ]
    }
   ],
   "source": [
    "rating = list(new_df.Rating)\n",
    "conf = list(new_df.Rating_Conf)\n",
    "text = list(new_df.Text)\n",
    "\n",
    "for i in range(10):\n",
    "    print(rating[i], '\\n', conf[i], '\\n', text[i],'\\n','\\n')\n",
    "    \n",
    "    "
   ]
  },
  {
   "cell_type": "markdown",
   "metadata": {},
   "source": [
    "Looking at few of the ratings and the corresponding text, it's pretty reasonable to say the rating and it's corresponding confidence percentage is more or less in the ballpark. Armed with this data, let's now make our data even more accurate. There are ratings given to an airline that the confidence is pretty low. Since we don't want to mislabel the airline, we are probably better suited to only analyze the data in which were are pretty sure that the rating is the correct one. This part is basically at the discretion of the user, but to me, 51% is winning. So let's filter our data down to those ratings that have only greater than 0.51 rating confidence percentages."
   ]
  },
  {
   "cell_type": "code",
   "execution_count": 20,
   "metadata": {},
   "outputs": [
    {
     "name": "stdout",
     "output_type": "stream",
     "text": [
      "<class 'pandas.core.frame.DataFrame'>\n",
      "Int64Index: 14403 entries, 0 to 14639\n",
      "Data columns (total 9 columns):\n",
      "Date               14403 non-null object\n",
      "Rating             14403 non-null object\n",
      "Rating_Conf        14403 non-null float64\n",
      "Negative_Reason    9114 non-null object\n",
      "Reason_Conf        10285 non-null float64\n",
      "User               14403 non-null object\n",
      "Text               14403 non-null object\n",
      "Coordinates        1009 non-null object\n",
      "Airline            14403 non-null object\n",
      "dtypes: float64(2), object(7)\n",
      "memory usage: 1.1+ MB\n",
      "None\n"
     ]
    },
    {
     "data": {
      "text/html": [
       "<div>\n",
       "<table border=\"1\" class=\"dataframe\">\n",
       "  <thead>\n",
       "    <tr style=\"text-align: right;\">\n",
       "      <th></th>\n",
       "      <th>Date</th>\n",
       "      <th>Rating</th>\n",
       "      <th>Rating_Conf</th>\n",
       "      <th>Negative_Reason</th>\n",
       "      <th>Reason_Conf</th>\n",
       "      <th>User</th>\n",
       "      <th>Text</th>\n",
       "      <th>Coordinates</th>\n",
       "      <th>Airline</th>\n",
       "    </tr>\n",
       "  </thead>\n",
       "  <tbody>\n",
       "    <tr>\n",
       "      <th>0</th>\n",
       "      <td>2015-02-24 11:35:52 -0800</td>\n",
       "      <td>neutral</td>\n",
       "      <td>1.0000</td>\n",
       "      <td>NaN</td>\n",
       "      <td>NaN</td>\n",
       "      <td>cairdin</td>\n",
       "      <td>@VirginAmerica What @dhepburn said.</td>\n",
       "      <td>NaN</td>\n",
       "      <td>Virgin Airlines</td>\n",
       "    </tr>\n",
       "    <tr>\n",
       "      <th>2</th>\n",
       "      <td>2015-02-24 11:15:48 -0800</td>\n",
       "      <td>neutral</td>\n",
       "      <td>0.6837</td>\n",
       "      <td>NaN</td>\n",
       "      <td>NaN</td>\n",
       "      <td>yvonnalynn</td>\n",
       "      <td>@VirginAmerica I didn't today... Must mean I n...</td>\n",
       "      <td>NaN</td>\n",
       "      <td>Virgin Airlines</td>\n",
       "    </tr>\n",
       "    <tr>\n",
       "      <th>3</th>\n",
       "      <td>2015-02-24 11:15:36 -0800</td>\n",
       "      <td>negative</td>\n",
       "      <td>1.0000</td>\n",
       "      <td>Bad Flight</td>\n",
       "      <td>0.7033</td>\n",
       "      <td>jnardino</td>\n",
       "      <td>@VirginAmerica it's really aggressive to blast...</td>\n",
       "      <td>NaN</td>\n",
       "      <td>Virgin Airlines</td>\n",
       "    </tr>\n",
       "    <tr>\n",
       "      <th>4</th>\n",
       "      <td>2015-02-24 11:14:45 -0800</td>\n",
       "      <td>negative</td>\n",
       "      <td>1.0000</td>\n",
       "      <td>Can't Tell</td>\n",
       "      <td>1.0000</td>\n",
       "      <td>jnardino</td>\n",
       "      <td>@VirginAmerica and it's a really big bad thing...</td>\n",
       "      <td>NaN</td>\n",
       "      <td>Virgin Airlines</td>\n",
       "    </tr>\n",
       "    <tr>\n",
       "      <th>5</th>\n",
       "      <td>2015-02-24 11:14:33 -0800</td>\n",
       "      <td>negative</td>\n",
       "      <td>1.0000</td>\n",
       "      <td>Can't Tell</td>\n",
       "      <td>0.6842</td>\n",
       "      <td>jnardino</td>\n",
       "      <td>@VirginAmerica seriously would pay $30 a fligh...</td>\n",
       "      <td>NaN</td>\n",
       "      <td>Virgin Airlines</td>\n",
       "    </tr>\n",
       "    <tr>\n",
       "      <th>6</th>\n",
       "      <td>2015-02-24 11:13:57 -0800</td>\n",
       "      <td>positive</td>\n",
       "      <td>0.6745</td>\n",
       "      <td>NaN</td>\n",
       "      <td>0.0000</td>\n",
       "      <td>cjmcginnis</td>\n",
       "      <td>@VirginAmerica yes, nearly every time I fly VX...</td>\n",
       "      <td>NaN</td>\n",
       "      <td>Virgin Airlines</td>\n",
       "    </tr>\n",
       "    <tr>\n",
       "      <th>7</th>\n",
       "      <td>2015-02-24 11:12:29 -0800</td>\n",
       "      <td>neutral</td>\n",
       "      <td>0.6340</td>\n",
       "      <td>NaN</td>\n",
       "      <td>NaN</td>\n",
       "      <td>pilot</td>\n",
       "      <td>@VirginAmerica Really missed a prime opportuni...</td>\n",
       "      <td>NaN</td>\n",
       "      <td>Virgin Airlines</td>\n",
       "    </tr>\n",
       "    <tr>\n",
       "      <th>8</th>\n",
       "      <td>2015-02-24 11:11:19 -0800</td>\n",
       "      <td>positive</td>\n",
       "      <td>0.6559</td>\n",
       "      <td>NaN</td>\n",
       "      <td>NaN</td>\n",
       "      <td>dhepburn</td>\n",
       "      <td>@virginamerica Well, I didn't…but NOW I DO! :-D</td>\n",
       "      <td>NaN</td>\n",
       "      <td>Virgin Airlines</td>\n",
       "    </tr>\n",
       "    <tr>\n",
       "      <th>9</th>\n",
       "      <td>2015-02-24 10:53:27 -0800</td>\n",
       "      <td>positive</td>\n",
       "      <td>1.0000</td>\n",
       "      <td>NaN</td>\n",
       "      <td>NaN</td>\n",
       "      <td>YupitsTate</td>\n",
       "      <td>@VirginAmerica it was amazing, and arrived an ...</td>\n",
       "      <td>NaN</td>\n",
       "      <td>Virgin Airlines</td>\n",
       "    </tr>\n",
       "    <tr>\n",
       "      <th>10</th>\n",
       "      <td>2015-02-24 10:48:24 -0800</td>\n",
       "      <td>neutral</td>\n",
       "      <td>0.6769</td>\n",
       "      <td>NaN</td>\n",
       "      <td>0.0000</td>\n",
       "      <td>idk_but_youtube</td>\n",
       "      <td>@VirginAmerica did you know that suicide is th...</td>\n",
       "      <td>NaN</td>\n",
       "      <td>Virgin Airlines</td>\n",
       "    </tr>\n",
       "  </tbody>\n",
       "</table>\n",
       "</div>"
      ],
      "text/plain": [
       "                         Date    Rating  Rating_Conf Negative_Reason  \\\n",
       "0   2015-02-24 11:35:52 -0800   neutral       1.0000             NaN   \n",
       "2   2015-02-24 11:15:48 -0800   neutral       0.6837             NaN   \n",
       "3   2015-02-24 11:15:36 -0800  negative       1.0000      Bad Flight   \n",
       "4   2015-02-24 11:14:45 -0800  negative       1.0000      Can't Tell   \n",
       "5   2015-02-24 11:14:33 -0800  negative       1.0000      Can't Tell   \n",
       "6   2015-02-24 11:13:57 -0800  positive       0.6745             NaN   \n",
       "7   2015-02-24 11:12:29 -0800   neutral       0.6340             NaN   \n",
       "8   2015-02-24 11:11:19 -0800  positive       0.6559             NaN   \n",
       "9   2015-02-24 10:53:27 -0800  positive       1.0000             NaN   \n",
       "10  2015-02-24 10:48:24 -0800   neutral       0.6769             NaN   \n",
       "\n",
       "    Reason_Conf             User  \\\n",
       "0           NaN          cairdin   \n",
       "2           NaN       yvonnalynn   \n",
       "3        0.7033         jnardino   \n",
       "4        1.0000         jnardino   \n",
       "5        0.6842         jnardino   \n",
       "6        0.0000       cjmcginnis   \n",
       "7           NaN            pilot   \n",
       "8           NaN         dhepburn   \n",
       "9           NaN       YupitsTate   \n",
       "10       0.0000  idk_but_youtube   \n",
       "\n",
       "                                                 Text Coordinates  \\\n",
       "0                 @VirginAmerica What @dhepburn said.         NaN   \n",
       "2   @VirginAmerica I didn't today... Must mean I n...         NaN   \n",
       "3   @VirginAmerica it's really aggressive to blast...         NaN   \n",
       "4   @VirginAmerica and it's a really big bad thing...         NaN   \n",
       "5   @VirginAmerica seriously would pay $30 a fligh...         NaN   \n",
       "6   @VirginAmerica yes, nearly every time I fly VX...         NaN   \n",
       "7   @VirginAmerica Really missed a prime opportuni...         NaN   \n",
       "8     @virginamerica Well, I didn't…but NOW I DO! :-D         NaN   \n",
       "9   @VirginAmerica it was amazing, and arrived an ...         NaN   \n",
       "10  @VirginAmerica did you know that suicide is th...         NaN   \n",
       "\n",
       "            Airline  \n",
       "0   Virgin Airlines  \n",
       "2   Virgin Airlines  \n",
       "3   Virgin Airlines  \n",
       "4   Virgin Airlines  \n",
       "5   Virgin Airlines  \n",
       "6   Virgin Airlines  \n",
       "7   Virgin Airlines  \n",
       "8   Virgin Airlines  \n",
       "9   Virgin Airlines  \n",
       "10  Virgin Airlines  "
      ]
     },
     "execution_count": 20,
     "metadata": {},
     "output_type": "execute_result"
    }
   ],
   "source": [
    "#we could make this one line, but i'm breaking it up for readability\n",
    "#set our boolean variable so that it filters the dataframe for only instances where the rating conf is >0.51\n",
    "\n",
    "\n",
    "conf_df = new_df[new_df.Rating_Conf >= 0.51 ]\n",
    "print(conf_df.info())\n",
    "conf_df.head(10)"
   ]
  },
  {
   "cell_type": "markdown",
   "metadata": {},
   "source": [
    "So surprisingly, improving our confidence statistics only reduced our data by some 200+ rows. Whoever compiled the data was pretty sure of themselves. Now, one final thing, the index is set as the date and time, but we don't realy like that format. I don't think there's much value in having it as low as the hours minutes and seconds. So let's convert this to just month day and year. Also, although not shown, the type of the date time in the index is **'string'**. When dealing with pandas, it's better to have the 'type' as pandas **'datetime'**. So let's convert as well"
   ]
  },
  {
   "cell_type": "code",
   "execution_count": 21,
   "metadata": {},
   "outputs": [
    {
     "data": {
      "text/plain": [
       "0    2015-02-24\n",
       "1    2015-02-24\n",
       "2    2015-02-24\n",
       "3    2015-02-24\n",
       "4    2015-02-24\n",
       "Name: Date, dtype: object"
      ]
     },
     "execution_count": 21,
     "metadata": {},
     "output_type": "execute_result"
    }
   ],
   "source": [
    "#create a copy of our original dataframe and reset the index\n",
    "date = conf_df.reset_index()\n",
    "#convert the Date column to pandas datetime\n",
    "date.Date = pd.to_datetime(date.Date)\n",
    "#Reduce the dates in the date column to only the date and no time stamp using the 'dt.date' method\n",
    "date.Date = date.Date.dt.date\n",
    "date.Date.head()\n"
   ]
  },
  {
   "cell_type": "code",
   "execution_count": 22,
   "metadata": {},
   "outputs": [
    {
     "data": {
      "text/html": [
       "<div>\n",
       "<table border=\"1\" class=\"dataframe\">\n",
       "  <thead>\n",
       "    <tr style=\"text-align: right;\">\n",
       "      <th></th>\n",
       "      <th>index</th>\n",
       "      <th>Date</th>\n",
       "      <th>Rating</th>\n",
       "      <th>Rating_Conf</th>\n",
       "      <th>Negative_Reason</th>\n",
       "      <th>Reason_Conf</th>\n",
       "      <th>User</th>\n",
       "      <th>Text</th>\n",
       "      <th>Coordinates</th>\n",
       "      <th>Airline</th>\n",
       "    </tr>\n",
       "  </thead>\n",
       "  <tbody>\n",
       "    <tr>\n",
       "      <th>0</th>\n",
       "      <td>0</td>\n",
       "      <td>2015-02-24</td>\n",
       "      <td>neutral</td>\n",
       "      <td>1.0000</td>\n",
       "      <td>NaN</td>\n",
       "      <td>NaN</td>\n",
       "      <td>cairdin</td>\n",
       "      <td>@VirginAmerica What @dhepburn said.</td>\n",
       "      <td>NaN</td>\n",
       "      <td>Virgin Airlines</td>\n",
       "    </tr>\n",
       "    <tr>\n",
       "      <th>1</th>\n",
       "      <td>2</td>\n",
       "      <td>2015-02-24</td>\n",
       "      <td>neutral</td>\n",
       "      <td>0.6837</td>\n",
       "      <td>NaN</td>\n",
       "      <td>NaN</td>\n",
       "      <td>yvonnalynn</td>\n",
       "      <td>@VirginAmerica I didn't today... Must mean I n...</td>\n",
       "      <td>NaN</td>\n",
       "      <td>Virgin Airlines</td>\n",
       "    </tr>\n",
       "    <tr>\n",
       "      <th>2</th>\n",
       "      <td>3</td>\n",
       "      <td>2015-02-24</td>\n",
       "      <td>negative</td>\n",
       "      <td>1.0000</td>\n",
       "      <td>Bad Flight</td>\n",
       "      <td>0.7033</td>\n",
       "      <td>jnardino</td>\n",
       "      <td>@VirginAmerica it's really aggressive to blast...</td>\n",
       "      <td>NaN</td>\n",
       "      <td>Virgin Airlines</td>\n",
       "    </tr>\n",
       "    <tr>\n",
       "      <th>3</th>\n",
       "      <td>4</td>\n",
       "      <td>2015-02-24</td>\n",
       "      <td>negative</td>\n",
       "      <td>1.0000</td>\n",
       "      <td>Can't Tell</td>\n",
       "      <td>1.0000</td>\n",
       "      <td>jnardino</td>\n",
       "      <td>@VirginAmerica and it's a really big bad thing...</td>\n",
       "      <td>NaN</td>\n",
       "      <td>Virgin Airlines</td>\n",
       "    </tr>\n",
       "    <tr>\n",
       "      <th>4</th>\n",
       "      <td>5</td>\n",
       "      <td>2015-02-24</td>\n",
       "      <td>negative</td>\n",
       "      <td>1.0000</td>\n",
       "      <td>Can't Tell</td>\n",
       "      <td>0.6842</td>\n",
       "      <td>jnardino</td>\n",
       "      <td>@VirginAmerica seriously would pay $30 a fligh...</td>\n",
       "      <td>NaN</td>\n",
       "      <td>Virgin Airlines</td>\n",
       "    </tr>\n",
       "  </tbody>\n",
       "</table>\n",
       "</div>"
      ],
      "text/plain": [
       "   index        Date    Rating  Rating_Conf Negative_Reason  Reason_Conf  \\\n",
       "0      0  2015-02-24   neutral       1.0000             NaN          NaN   \n",
       "1      2  2015-02-24   neutral       0.6837             NaN          NaN   \n",
       "2      3  2015-02-24  negative       1.0000      Bad Flight       0.7033   \n",
       "3      4  2015-02-24  negative       1.0000      Can't Tell       1.0000   \n",
       "4      5  2015-02-24  negative       1.0000      Can't Tell       0.6842   \n",
       "\n",
       "         User                                               Text Coordinates  \\\n",
       "0     cairdin                @VirginAmerica What @dhepburn said.         NaN   \n",
       "1  yvonnalynn  @VirginAmerica I didn't today... Must mean I n...         NaN   \n",
       "2    jnardino  @VirginAmerica it's really aggressive to blast...         NaN   \n",
       "3    jnardino  @VirginAmerica and it's a really big bad thing...         NaN   \n",
       "4    jnardino  @VirginAmerica seriously would pay $30 a fligh...         NaN   \n",
       "\n",
       "           Airline  \n",
       "0  Virgin Airlines  \n",
       "1  Virgin Airlines  \n",
       "2  Virgin Airlines  \n",
       "3  Virgin Airlines  \n",
       "4  Virgin Airlines  "
      ]
     },
     "execution_count": 22,
     "metadata": {},
     "output_type": "execute_result"
    }
   ],
   "source": [
    "conf_df = date\n",
    "conf_df.head()"
   ]
  },
  {
   "cell_type": "markdown",
   "metadata": {},
   "source": [
    "Ok, now we have our data looking much better, let's rerun the analysis we originally did and plot the results..... **AGAIN**"
   ]
  },
  {
   "cell_type": "code",
   "execution_count": 23,
   "metadata": {},
   "outputs": [
    {
     "data": {
      "text/plain": [
       "Airline             Rating  \n",
       "American Airlines   negative    1955\n",
       "                    neutral      448\n",
       "                    positive     330\n",
       "Jet Blue            negative     936\n",
       "                    neutral      699\n",
       "                    positive     530\n",
       "Southwest Airlines  negative    1177\n",
       "                    neutral      641\n",
       "                    positive     555\n",
       "US Airways          negative    2253\n",
       "                    neutral      367\n",
       "                    positive     257\n",
       "United Airlines     negative    2612\n",
       "                    neutral      675\n",
       "                    positive     472\n",
       "Virgin Airlines     negative     179\n",
       "                    neutral      167\n",
       "                    positive     148\n",
       "Name: index, dtype: int64"
      ]
     },
     "execution_count": 23,
     "metadata": {},
     "output_type": "execute_result"
    }
   ],
   "source": [
    "test = conf_df[conf_df.Airline != 'Delta Airlines'].groupby(['Airline','Rating']).count().iloc[:,0]\n",
    "test"
   ]
  },
  {
   "cell_type": "markdown",
   "metadata": {},
   "source": [
    "We need to create the seperate dataframes again for the percentage: positive, negative, and neutral. But instead of rewriting all the repeating code 3 times again, let's just write one function that we can pass the rating type we want to compile and let it do all the work for us for each rating."
   ]
  },
  {
   "cell_type": "code",
   "execution_count": 24,
   "metadata": {
    "collapsed": true
   },
   "outputs": [],
   "source": [
    "def percentages(df, rating = 'negative'):\n",
    "    if rating == 'negative':\n",
    "        i = 0\n",
    "        column = 'Percent Negative'\n",
    "    elif rating == 'neutral':\n",
    "        i = 1\n",
    "        column = 'Percent Neutral'\n",
    "    elif rating == 'positive':\n",
    "        i = 2\n",
    "        column = 'Percent Positive'\n",
    "        \n",
    "    #Count of all tweet ratings for each airline (negative, neutral, positive), remove Delta since it only has 2 entries total\n",
    "    itemized_tweets = df[df.Airline != 'Delta Airlines'].groupby(['Airline','Rating']).count().iloc[:,0]\n",
    "    #Rating tweet total index for each airline:\n",
    "    #American i\n",
    "    #Jet Blue i + 3\n",
    "    #southwest i + 6\n",
    "    #US Airways i + 9\n",
    "    #United i + 12\n",
    "    #Virgin i + 15\n",
    "\n",
    "    #Count of total tweets about an airline\n",
    "    total_tweets = df[df.Airline != 'Delta Airlines'].groupby(['Airline'])['Rating'].count()\n",
    "    #Airline index in total tweets:\n",
    "    #American 0\n",
    "    #Jet Blue 1\n",
    "    #Southwest 2\n",
    "    #US Airways 3\n",
    "    #United 4\n",
    "    #Virgin 5\n",
    "\n",
    "\n",
    "    #Create a dictionary of percentage of rating tweets = (rating_tweets / total_tweets)\n",
    "    my_dict = {'American':itemized_tweets[i] / total_tweets[0],\n",
    "                'Jet Blue':itemized_tweets[i + 3] / total_tweets[1],\n",
    "                'Southwest': itemized_tweets[i + 6] / total_tweets[2],\n",
    "                'US Airways': itemized_tweets[i + 9] / total_tweets[3],\n",
    "                'United': itemized_tweets[i + 12] / total_tweets[4],\n",
    "                'Virgin': itemized_tweets[i + 15] / total_tweets[5]}\n",
    "\n",
    "    #make a dataframe from the dictionary\n",
    "    perc_df = pd.DataFrame.from_dict(my_dict, orient = 'index')\n",
    "        \n",
    "    #have to manually set column name when using .from_dict() method\n",
    "    perc_df.columns = [column]\n",
    "        \n",
    "    return perc_df\n",
    "    \n"
   ]
  },
  {
   "cell_type": "markdown",
   "metadata": {},
   "source": [
    "Great! we have our function, now let's use it to compile our percentages and plot them."
   ]
  },
  {
   "cell_type": "code",
   "execution_count": 25,
   "metadata": {},
   "outputs": [
    {
     "data": {
      "text/html": [
       "<div>\n",
       "<table border=\"1\" class=\"dataframe\">\n",
       "  <thead>\n",
       "    <tr style=\"text-align: right;\">\n",
       "      <th></th>\n",
       "      <th>Percent Negative</th>\n",
       "      <th>Percent Positive</th>\n",
       "      <th>Percent Neutral</th>\n",
       "    </tr>\n",
       "  </thead>\n",
       "  <tbody>\n",
       "    <tr>\n",
       "      <th>American</th>\n",
       "      <td>0.715331</td>\n",
       "      <td>0.120746</td>\n",
       "      <td>0.163922</td>\n",
       "    </tr>\n",
       "    <tr>\n",
       "      <th>Jet Blue</th>\n",
       "      <td>0.432333</td>\n",
       "      <td>0.244804</td>\n",
       "      <td>0.322864</td>\n",
       "    </tr>\n",
       "    <tr>\n",
       "      <th>Southwest</th>\n",
       "      <td>0.495997</td>\n",
       "      <td>0.233881</td>\n",
       "      <td>0.270122</td>\n",
       "    </tr>\n",
       "    <tr>\n",
       "      <th>US Airways</th>\n",
       "      <td>0.783107</td>\n",
       "      <td>0.089329</td>\n",
       "      <td>0.127563</td>\n",
       "    </tr>\n",
       "    <tr>\n",
       "      <th>United</th>\n",
       "      <td>0.694866</td>\n",
       "      <td>0.125565</td>\n",
       "      <td>0.179569</td>\n",
       "    </tr>\n",
       "    <tr>\n",
       "      <th>Virgin</th>\n",
       "      <td>0.362348</td>\n",
       "      <td>0.299595</td>\n",
       "      <td>0.338057</td>\n",
       "    </tr>\n",
       "  </tbody>\n",
       "</table>\n",
       "</div>"
      ],
      "text/plain": [
       "            Percent Negative  Percent Positive  Percent Neutral\n",
       "American            0.715331          0.120746         0.163922\n",
       "Jet Blue            0.432333          0.244804         0.322864\n",
       "Southwest           0.495997          0.233881         0.270122\n",
       "US Airways          0.783107          0.089329         0.127563\n",
       "United              0.694866          0.125565         0.179569\n",
       "Virgin              0.362348          0.299595         0.338057"
      ]
     },
     "execution_count": 25,
     "metadata": {},
     "output_type": "execute_result"
    }
   ],
   "source": [
    "#Create a df called negative that contains the percent negatives by calling the function above\n",
    "negative = percentages(conf_df, 'negative')\n",
    "\n",
    "#Create a df called neutral that contains the percent neutrals by calling the function above\n",
    "neutral = percentages(conf_df, 'neutral')\n",
    "\n",
    "#Create a df called positive that contains the percent positives by calling the function above\n",
    "positive = percentages(conf_df, 'positive')\n",
    "\n",
    "#call the earlier function that merges all 3 data frames into one\n",
    "merged_perc = merge_dfs(negative, positive, neutral)\n",
    "merged_perc"
   ]
  },
  {
   "cell_type": "code",
   "execution_count": 26,
   "metadata": {},
   "outputs": [
    {
     "data": {
      "image/png": "[encoded data removed]",
      "text/plain": [
       "<matplotlib.figure.Figure at 0x7fea199125c0>"
      ]
     },
     "metadata": {},
     "output_type": "display_data"
    }
   ],
   "source": [
    "ax = merged_perc.plot(kind = 'bar', rot = 0, figsize = (15,6))\n",
    "plt.show()"
   ]
  },
  {
   "cell_type": "markdown",
   "metadata": {},
   "source": [
    "We now have accurate data, and a clear picture of which airline just really upset people. US Airways, no wonder why you were acquired by American Airlines a year later. A lot of people were not happy for you. By why weren't they happy with you? Let's extract all the reasons why people were upset and aggregate them for each airline while plotting the results. "
   ]
  },
  {
   "cell_type": "code",
   "execution_count": 27,
   "metadata": {},
   "outputs": [
    {
     "data": {
      "image/png": "[encoded data removed]",
      "text/plain": [
       "<matplotlib.figure.Figure at 0x7fea19912470>"
      ]
     },
     "metadata": {},
     "output_type": "display_data"
    }
   ],
   "source": [
    "#function that reduces the dataframe to only the airline and the negative reasons, then extract the reasons and the frequency\n",
    "#each reason was referenced to an airline\n",
    "def reason(df):\n",
    "    df = df.reset_index().loc[:,['Airline','Negative_Reason']].dropna().groupby(['Airline','Negative_Reason']).size()\n",
    "    return df\n",
    "\n",
    "#call the function and plot the results\n",
    "ax1 = reason(conf_df).unstack(0).plot(kind = 'bar', figsize = (15,6), rot = 70)\n",
    "\n",
    "plt.show()"
   ]
  },
  {
   "cell_type": "markdown",
   "metadata": {},
   "source": [
    "Let's see how the negative tweets break down for each day of the data. It appears that we have about a weeks worth of tweet data here, so let's sort out only the negatives and see how much an airline got hated on each day"
   ]
  },
  {
   "cell_type": "code",
   "execution_count": 28,
   "metadata": {},
   "outputs": [
    {
     "name": "stdout",
     "output_type": "stream",
     "text": [
      "2015-02-17\n",
      "2015-02-24\n"
     ]
    }
   ],
   "source": [
    "print(conf_df.Date.min())\n",
    "print(conf_df.Date.max())"
   ]
  },
  {
   "cell_type": "code",
   "execution_count": 35,
   "metadata": {},
   "outputs": [
    {
     "data": {
      "text/plain": [
       "Date        Airline             Rating  \n",
       "2015-02-17  Jet Blue            negative     51\n",
       "                                neutral      60\n",
       "                                positive     47\n",
       "            Southwest Airlines  negative    161\n",
       "                                neutral      66\n",
       "                                positive     55\n",
       "            US Airways          negative    155\n",
       "                                neutral      22\n",
       "                                positive     32\n",
       "            United Airlines     negative    172\n",
       "                                neutral      49\n",
       "                                positive     29\n",
       "            Virgin Airlines     negative      9\n",
       "                                neutral      15\n",
       "                                positive     15\n",
       "2015-02-18  Jet Blue            negative    127\n",
       "                                neutral      80\n",
       "                                positive     77\n",
       "            Southwest Airlines  negative    142\n",
       "                                neutral      93\n",
       "                                positive     86\n",
       "            US Airways          negative    257\n",
       "                                neutral      28\n",
       "                                positive     43\n",
       "            United Airlines     negative    279\n",
       "                                neutral      73\n",
       "                                positive     51\n",
       "            Virgin Airlines     negative     17\n",
       "                                neutral      21\n",
       "                                positive     20\n",
       "                                           ... \n",
       "2015-02-23  Southwest Airlines  neutral     105\n",
       "                                positive     91\n",
       "            US Airways          negative    429\n",
       "                                neutral      76\n",
       "                                positive     45\n",
       "            United Airlines     negative    501\n",
       "                                neutral      96\n",
       "                                positive     68\n",
       "            Virgin Airlines     negative     30\n",
       "                                neutral      30\n",
       "                                positive     19\n",
       "2015-02-24  American Airlines   negative    567\n",
       "                                neutral     195\n",
       "                                positive    148\n",
       "            Delta Airlines      negative      1\n",
       "            Jet Blue            negative     67\n",
       "                                neutral      70\n",
       "                                positive     45\n",
       "            Southwest Airlines  negative    124\n",
       "                                neutral      61\n",
       "                                positive     52\n",
       "            US Airways          negative    232\n",
       "                                neutral      56\n",
       "                                positive     21\n",
       "            United Airlines     negative    274\n",
       "                                neutral      85\n",
       "                                positive     52\n",
       "            Virgin Airlines     negative     15\n",
       "                                neutral      15\n",
       "                                positive     18\n",
       "dtype: int64"
      ]
     },
     "execution_count": 35,
     "metadata": {},
     "output_type": "execute_result"
    }
   ],
   "source": [
    "#groupby by Date first making it the main index, then group by the airline, then finally the rating and see how many\n",
    "#of each rating an airline got for each date\n",
    "day_df = conf_df.groupby(['Date','Airline','Rating']).size()\n",
    "day_df"
   ]
  },
  {
   "cell_type": "markdown",
   "metadata": {},
   "source": [
    "We want to filter this down to just the negative counts for each airline. A neat little trick to conver this output into just another dataframe is simply by resetting the index"
   ]
  },
  {
   "cell_type": "code",
   "execution_count": 36,
   "metadata": {},
   "outputs": [
    {
     "data": {
      "text/html": [
       "<div>\n",
       "<table border=\"1\" class=\"dataframe\">\n",
       "  <thead>\n",
       "    <tr style=\"text-align: right;\">\n",
       "      <th></th>\n",
       "      <th>Date</th>\n",
       "      <th>Airline</th>\n",
       "      <th>Rating</th>\n",
       "      <th>0</th>\n",
       "    </tr>\n",
       "  </thead>\n",
       "  <tbody>\n",
       "    <tr>\n",
       "      <th>0</th>\n",
       "      <td>2015-02-17</td>\n",
       "      <td>Jet Blue</td>\n",
       "      <td>negative</td>\n",
       "      <td>51</td>\n",
       "    </tr>\n",
       "    <tr>\n",
       "      <th>1</th>\n",
       "      <td>2015-02-17</td>\n",
       "      <td>Jet Blue</td>\n",
       "      <td>neutral</td>\n",
       "      <td>60</td>\n",
       "    </tr>\n",
       "    <tr>\n",
       "      <th>2</th>\n",
       "      <td>2015-02-17</td>\n",
       "      <td>Jet Blue</td>\n",
       "      <td>positive</td>\n",
       "      <td>47</td>\n",
       "    </tr>\n",
       "    <tr>\n",
       "      <th>3</th>\n",
       "      <td>2015-02-17</td>\n",
       "      <td>Southwest Airlines</td>\n",
       "      <td>negative</td>\n",
       "      <td>161</td>\n",
       "    </tr>\n",
       "    <tr>\n",
       "      <th>4</th>\n",
       "      <td>2015-02-17</td>\n",
       "      <td>Southwest Airlines</td>\n",
       "      <td>neutral</td>\n",
       "      <td>66</td>\n",
       "    </tr>\n",
       "  </tbody>\n",
       "</table>\n",
       "</div>"
      ],
      "text/plain": [
       "         Date             Airline    Rating    0\n",
       "0  2015-02-17            Jet Blue  negative   51\n",
       "1  2015-02-17            Jet Blue   neutral   60\n",
       "2  2015-02-17            Jet Blue  positive   47\n",
       "3  2015-02-17  Southwest Airlines  negative  161\n",
       "4  2015-02-17  Southwest Airlines   neutral   66"
      ]
     },
     "execution_count": 36,
     "metadata": {},
     "output_type": "execute_result"
    }
   ],
   "source": [
    "day_df = day_df.reset_index()\n",
    "day_df.head()"
   ]
  },
  {
   "cell_type": "markdown",
   "metadata": {},
   "source": [
    "Next, we want to rename that '0' column to something more informational, like 'Count'. Also we can use boolean logic to filter the dataframe down to only 'negative' ratings"
   ]
  },
  {
   "cell_type": "code",
   "execution_count": 37,
   "metadata": {},
   "outputs": [
    {
     "data": {
      "text/html": [
       "<div>\n",
       "<table border=\"1\" class=\"dataframe\">\n",
       "  <thead>\n",
       "    <tr style=\"text-align: right;\">\n",
       "      <th></th>\n",
       "      <th>index</th>\n",
       "      <th>Date</th>\n",
       "      <th>Airline</th>\n",
       "      <th>Rating</th>\n",
       "      <th>Count</th>\n",
       "    </tr>\n",
       "  </thead>\n",
       "  <tbody>\n",
       "    <tr>\n",
       "      <th>0</th>\n",
       "      <td>0</td>\n",
       "      <td>2015-02-17</td>\n",
       "      <td>Jet Blue</td>\n",
       "      <td>negative</td>\n",
       "      <td>51</td>\n",
       "    </tr>\n",
       "    <tr>\n",
       "      <th>1</th>\n",
       "      <td>3</td>\n",
       "      <td>2015-02-17</td>\n",
       "      <td>Southwest Airlines</td>\n",
       "      <td>negative</td>\n",
       "      <td>161</td>\n",
       "    </tr>\n",
       "    <tr>\n",
       "      <th>2</th>\n",
       "      <td>6</td>\n",
       "      <td>2015-02-17</td>\n",
       "      <td>US Airways</td>\n",
       "      <td>negative</td>\n",
       "      <td>155</td>\n",
       "    </tr>\n",
       "    <tr>\n",
       "      <th>3</th>\n",
       "      <td>9</td>\n",
       "      <td>2015-02-17</td>\n",
       "      <td>United Airlines</td>\n",
       "      <td>negative</td>\n",
       "      <td>172</td>\n",
       "    </tr>\n",
       "    <tr>\n",
       "      <th>4</th>\n",
       "      <td>12</td>\n",
       "      <td>2015-02-17</td>\n",
       "      <td>Virgin Airlines</td>\n",
       "      <td>negative</td>\n",
       "      <td>9</td>\n",
       "    </tr>\n",
       "  </tbody>\n",
       "</table>\n",
       "</div>"
      ],
      "text/plain": [
       "   index        Date             Airline    Rating  Count\n",
       "0      0  2015-02-17            Jet Blue  negative     51\n",
       "1      3  2015-02-17  Southwest Airlines  negative    161\n",
       "2      6  2015-02-17          US Airways  negative    155\n",
       "3      9  2015-02-17     United Airlines  negative    172\n",
       "4     12  2015-02-17     Virgin Airlines  negative      9"
      ]
     },
     "execution_count": 37,
     "metadata": {},
     "output_type": "execute_result"
    }
   ],
   "source": [
    "#rename the column\n",
    "day_df = day_df.rename(columns = {0:'Count'})\n",
    "#filter to only negative ratings\n",
    "day_df = day_df[day_df.Rating == 'negative'].reset_index()\n",
    "#Remove delta since it only has 2 entries\n",
    "day_df = day_df[day_df.Airline != 'Delta Airlines']\n",
    "day_df.head()"
   ]
  },
  {
   "cell_type": "markdown",
   "metadata": {},
   "source": [
    "We have an extra column in there that we don't really are about, so we can slice that out, and then regroup our new dataframe again using 'Date' as the main index and 'Airline' as the secondary index. From there, we can simply plot our results"
   ]
  },
  {
   "cell_type": "code",
   "execution_count": 38,
   "metadata": {},
   "outputs": [
    {
     "data": {
      "image/png": "[encoded data removed]",
      "text/plain": [
       "<matplotlib.figure.Figure at 0x7fea1927bf60>"
      ]
     },
     "metadata": {},
     "output_type": "display_data"
    }
   ],
   "source": [
    "#slice out the first 2 columns of the resultant dataframe\n",
    "day_df = day_df.iloc[:,1:5]\n",
    "\n",
    "#groupby and plot data\n",
    "ax2 = day_df.groupby(['Date','Airline']).sum().unstack().plot(kind = 'bar', colormap = 'viridis', figsize = (15,6), rot = 70)\n",
    "labels = ['American Airlines','Jet Blue','Southwest Airlines','US Airways','United Airlines','Virgin Airlines']\n",
    "ax2.legend(labels = labels)\n",
    "ax2.set_xlabel('Date')\n",
    "ax2.set_ylabel('Negative Tweets')\n",
    "plt.show()"
   ]
  },
  {
   "cell_type": "markdown",
   "metadata": {
    "collapsed": true
   },
   "source": [
    "I don't know what happend on the 23, but it looks like all the American Airlines flights decided to revolt against their customers all at once. Wow. Let's take our analysis a step further and see what power twitter really has. Let's compare the amount of complaints per day to the stock prices of these airlines on those days. Unfortunately however, Virgin Airlines is a privately held company so there's no stock info on them. Also US Airways was eventually acquired by American Airlines in a merger shortly after this data. So we can only compile data for the other 4 Airlines. I've already downloaded the historical stock data from Yahoo Finance for American, Jet Blue, Southwest, and United. Let's load the data and see what we get"
   ]
  },
  {
   "cell_type": "code",
   "execution_count": 75,
   "metadata": {},
   "outputs": [
    {
     "data": {
      "text/html": [
       "<div>\n",
       "<table border=\"1\" class=\"dataframe\">\n",
       "  <thead>\n",
       "    <tr style=\"text-align: right;\">\n",
       "      <th></th>\n",
       "      <th>Date</th>\n",
       "      <th>Open</th>\n",
       "      <th>High</th>\n",
       "      <th>Low</th>\n",
       "      <th>Close</th>\n",
       "      <th>Adj Close</th>\n",
       "      <th>Volume</th>\n",
       "    </tr>\n",
       "  </thead>\n",
       "  <tbody>\n",
       "    <tr>\n",
       "      <th>0</th>\n",
       "      <td>2015-01-02</td>\n",
       "      <td>67.739998</td>\n",
       "      <td>68.080002</td>\n",
       "      <td>65.709999</td>\n",
       "      <td>66.339996</td>\n",
       "      <td>66.339996</td>\n",
       "      <td>6215000</td>\n",
       "    </tr>\n",
       "    <tr>\n",
       "      <th>1</th>\n",
       "      <td>2015-01-05</td>\n",
       "      <td>66.870003</td>\n",
       "      <td>67.349998</td>\n",
       "      <td>65.500000</td>\n",
       "      <td>66.150002</td>\n",
       "      <td>66.150002</td>\n",
       "      <td>5033400</td>\n",
       "    </tr>\n",
       "    <tr>\n",
       "      <th>2</th>\n",
       "      <td>2015-01-06</td>\n",
       "      <td>66.629997</td>\n",
       "      <td>67.000000</td>\n",
       "      <td>63.110001</td>\n",
       "      <td>64.580002</td>\n",
       "      <td>64.580002</td>\n",
       "      <td>6051700</td>\n",
       "    </tr>\n",
       "    <tr>\n",
       "      <th>3</th>\n",
       "      <td>2015-01-07</td>\n",
       "      <td>64.959999</td>\n",
       "      <td>66.110001</td>\n",
       "      <td>64.000000</td>\n",
       "      <td>65.529999</td>\n",
       "      <td>65.529999</td>\n",
       "      <td>5135000</td>\n",
       "    </tr>\n",
       "    <tr>\n",
       "      <th>4</th>\n",
       "      <td>2015-01-08</td>\n",
       "      <td>65.699997</td>\n",
       "      <td>67.519997</td>\n",
       "      <td>65.410004</td>\n",
       "      <td>66.639999</td>\n",
       "      <td>66.639999</td>\n",
       "      <td>6889500</td>\n",
       "    </tr>\n",
       "  </tbody>\n",
       "</table>\n",
       "</div>"
      ],
      "text/plain": [
       "         Date       Open       High        Low      Close  Adj Close   Volume\n",
       "0  2015-01-02  67.739998  68.080002  65.709999  66.339996  66.339996  6215000\n",
       "1  2015-01-05  66.870003  67.349998  65.500000  66.150002  66.150002  5033400\n",
       "2  2015-01-06  66.629997  67.000000  63.110001  64.580002  64.580002  6051700\n",
       "3  2015-01-07  64.959999  66.110001  64.000000  65.529999  65.529999  5135000\n",
       "4  2015-01-08  65.699997  67.519997  65.410004  66.639999  66.639999  6889500"
      ]
     },
     "execution_count": 75,
     "metadata": {},
     "output_type": "execute_result"
    }
   ],
   "source": [
    "JB = pd.read_csv('JBLU.csv')\n",
    "AM = pd.read_csv('American.csv')\n",
    "SW = pd.read_csv('Southwest.csv')\n",
    "UN = pd.read_csv('United.csv')\n",
    "UN.head()"
   ]
  },
  {
   "cell_type": "markdown",
   "metadata": {},
   "source": [
    "Inspecting the data structure in the **UNITED AIRLINES** stock data, we will probably only need the \"Date\", \"Open\", and \"Close\" data. We also only need the dates that correspond to the same dates as the twitter data. Let's build a function that we can pass all over csv files through to reduce the dataframes to the desired form, and then we will concatentate them. Also we need a way to designate between each airline since all csv files looked exactly the same. So we will add a multiindex column in the dataframe serpating the data by Airlines"
   ]
  },
  {
   "cell_type": "code",
   "execution_count": 76,
   "metadata": {
    "collapsed": true
   },
   "outputs": [],
   "source": [
    "def result(df, al = 'JB'):\n",
    "    #set the column name for the appropriate airline\n",
    "    if al == 'JB':\n",
    "        airline = 'Jet Blue'\n",
    "    elif al =='AM':\n",
    "        airline = 'American Airlines'\n",
    "    elif al == 'SW':\n",
    "        airline = 'Southwest Airlines'\n",
    "    elif al == 'UN':\n",
    "        airline = 'United Airlines'\n",
    "    \n",
    "    #slice the data frame to only the columns and dates that we want\n",
    "    df = df.loc[30:36,['Date','Open','Close']]\n",
    "    df.Date = pd.to_datetime(df['Date'])\n",
    "    #input the Airline column\n",
    "    df['Airline'] = airline\n",
    "    #create the mulitindex column with the airlines\n",
    "    df = df.set_index(['Date','Airline']).unstack().swaplevel(0,1,1).sort_index(1)\n",
    "    return df"
   ]
  },
  {
   "cell_type": "code",
   "execution_count": 77,
   "metadata": {},
   "outputs": [
    {
     "data": {
      "text/html": [
       "<div>\n",
       "<table border=\"1\" class=\"dataframe\">\n",
       "  <thead>\n",
       "    <tr>\n",
       "      <th>Airline</th>\n",
       "      <th colspan=\"2\" halign=\"left\">Jet Blue</th>\n",
       "      <th colspan=\"2\" halign=\"left\">American Airlines</th>\n",
       "      <th colspan=\"2\" halign=\"left\">Southwest Airlines</th>\n",
       "      <th colspan=\"2\" halign=\"left\">United Airlines</th>\n",
       "    </tr>\n",
       "    <tr>\n",
       "      <th></th>\n",
       "      <th>Open</th>\n",
       "      <th>Close</th>\n",
       "      <th>Open</th>\n",
       "      <th>Close</th>\n",
       "      <th>Open</th>\n",
       "      <th>Close</th>\n",
       "      <th>Open</th>\n",
       "      <th>Close</th>\n",
       "    </tr>\n",
       "    <tr>\n",
       "      <th>Date</th>\n",
       "      <th></th>\n",
       "      <th></th>\n",
       "      <th></th>\n",
       "      <th></th>\n",
       "      <th></th>\n",
       "      <th></th>\n",
       "      <th></th>\n",
       "      <th></th>\n",
       "    </tr>\n",
       "  </thead>\n",
       "  <tbody>\n",
       "    <tr>\n",
       "      <th>2015-02-17</th>\n",
       "      <td>16.950001</td>\n",
       "      <td>16.820000</td>\n",
       "      <td>48.770000</td>\n",
       "      <td>48.009998</td>\n",
       "      <td>43.459999</td>\n",
       "      <td>42.590000</td>\n",
       "      <td>66.500000</td>\n",
       "      <td>64.930000</td>\n",
       "    </tr>\n",
       "    <tr>\n",
       "      <th>2015-02-18</th>\n",
       "      <td>16.950001</td>\n",
       "      <td>16.830000</td>\n",
       "      <td>48.599998</td>\n",
       "      <td>49.310001</td>\n",
       "      <td>42.939999</td>\n",
       "      <td>43.549999</td>\n",
       "      <td>65.900002</td>\n",
       "      <td>66.720001</td>\n",
       "    </tr>\n",
       "    <tr>\n",
       "      <th>2015-02-19</th>\n",
       "      <td>17.209999</td>\n",
       "      <td>17.020000</td>\n",
       "      <td>50.779999</td>\n",
       "      <td>49.779999</td>\n",
       "      <td>44.919998</td>\n",
       "      <td>43.759998</td>\n",
       "      <td>68.449997</td>\n",
       "      <td>66.089996</td>\n",
       "    </tr>\n",
       "    <tr>\n",
       "      <th>2015-02-20</th>\n",
       "      <td>17.070000</td>\n",
       "      <td>17.490000</td>\n",
       "      <td>49.810001</td>\n",
       "      <td>51.020000</td>\n",
       "      <td>43.650002</td>\n",
       "      <td>44.779999</td>\n",
       "      <td>66.089996</td>\n",
       "      <td>68.010002</td>\n",
       "    </tr>\n",
       "    <tr>\n",
       "      <th>2015-02-23</th>\n",
       "      <td>17.530001</td>\n",
       "      <td>17.780001</td>\n",
       "      <td>51.750000</td>\n",
       "      <td>51.310001</td>\n",
       "      <td>45.110001</td>\n",
       "      <td>44.689999</td>\n",
       "      <td>69.029999</td>\n",
       "      <td>68.839996</td>\n",
       "    </tr>\n",
       "    <tr>\n",
       "      <th>2015-02-24</th>\n",
       "      <td>17.750000</td>\n",
       "      <td>18.070000</td>\n",
       "      <td>50.290001</td>\n",
       "      <td>51.520000</td>\n",
       "      <td>44.380001</td>\n",
       "      <td>45.349998</td>\n",
       "      <td>67.949997</td>\n",
       "      <td>70.889999</td>\n",
       "    </tr>\n",
       "    <tr>\n",
       "      <th>2015-02-25</th>\n",
       "      <td>18.000000</td>\n",
       "      <td>17.530001</td>\n",
       "      <td>51.299999</td>\n",
       "      <td>49.730000</td>\n",
       "      <td>45.020000</td>\n",
       "      <td>44.119999</td>\n",
       "      <td>70.559998</td>\n",
       "      <td>68.690002</td>\n",
       "    </tr>\n",
       "  </tbody>\n",
       "</table>\n",
       "</div>"
      ],
      "text/plain": [
       "Airline      Jet Blue            American Airlines             \\\n",
       "                 Open      Close              Open      Close   \n",
       "Date                                                            \n",
       "2015-02-17  16.950001  16.820000         48.770000  48.009998   \n",
       "2015-02-18  16.950001  16.830000         48.599998  49.310001   \n",
       "2015-02-19  17.209999  17.020000         50.779999  49.779999   \n",
       "2015-02-20  17.070000  17.490000         49.810001  51.020000   \n",
       "2015-02-23  17.530001  17.780001         51.750000  51.310001   \n",
       "2015-02-24  17.750000  18.070000         50.290001  51.520000   \n",
       "2015-02-25  18.000000  17.530001         51.299999  49.730000   \n",
       "\n",
       "Airline    Southwest Airlines            United Airlines             \n",
       "                         Open      Close            Open      Close  \n",
       "Date                                                                 \n",
       "2015-02-17          43.459999  42.590000       66.500000  64.930000  \n",
       "2015-02-18          42.939999  43.549999       65.900002  66.720001  \n",
       "2015-02-19          44.919998  43.759998       68.449997  66.089996  \n",
       "2015-02-20          43.650002  44.779999       66.089996  68.010002  \n",
       "2015-02-23          45.110001  44.689999       69.029999  68.839996  \n",
       "2015-02-24          44.380001  45.349998       67.949997  70.889999  \n",
       "2015-02-25          45.020000  44.119999       70.559998  68.690002  "
      ]
     },
     "execution_count": 77,
     "metadata": {},
     "output_type": "execute_result"
    }
   ],
   "source": [
    "#Call our function above and clean up our dataframes to the desired output\n",
    "JB = result(JB, 'JB')\n",
    "AM = result(AM, 'AM')\n",
    "SW = result(SW, 'SW')\n",
    "UN = result(UN, 'UN')\n",
    "\n",
    "#Concatenate our cleaned up data frames\n",
    "stocks = pd.concat([JB,AM,SW,UN], axis = 1)\n",
    "stocks"
   ]
  },
  {
   "cell_type": "code",
   "execution_count": 119,
   "metadata": {},
   "outputs": [
    {
     "data": {
      "image/png": "[encoded data removed]",
      "text/plain": [
       "<matplotlib.figure.Figure at 0x7fea1972dda0>"
      ]
     },
     "metadata": {},
     "output_type": "display_data"
    }
   ],
   "source": [
    "fig, ax3 = plt.subplots(figsize = (15,15))\n",
    "#ax3 = stocks.plot(figsize = (15,6) )\n",
    "\n",
    "ax3.fill_between(stocks.index,stocks.iloc[:,0],stocks.iloc[:,1],\n",
    "                facecolor='blue', alpha=0.2, interpolate=True)\n",
    "ax3.fill_between(stocks.index,stocks.iloc[:,2],stocks.iloc[:,3],\n",
    "                facecolor='blue', alpha=0.2, interpolate=True)\n",
    "ax3.fill_between(stocks.index,stocks.iloc[:,4],stocks.iloc[:,5],\n",
    "                facecolor='blue', alpha=0.2, interpolate=True)\n",
    "ax3.fill_between(stocks.index,stocks.iloc[:,6],stocks.iloc[:,7],\n",
    "                facecolor='blue', alpha=0.2, interpolate=True)\n",
    "for i in range(len(stocks.columns)): ax3.plot(stocks.iloc[:,i], lw = 3, linestyle = ':') \n",
    "ax3.legend(loc='upper center', bbox_to_anchor=(0.5, -0.1),fancybox=True, shadow=True, ncol=4)  \n",
    "ax3.set_xlabel('Date')\n",
    "ax3.set_ylabel('Stock Price')\n",
    "ax3.set_title('Airline Open & Close Prices')\n",
    "plt.show()"
   ]
  },
  {
   "cell_type": "markdown",
   "metadata": {},
   "source": [
    "Just from first initial impressions, there doesn't appear to be anything significant with this data that would correlate to the twitter data. It might be a waste of time continuing down this avenue. But this is fine. We at least explored the possibility of a correlation. However, I think it's pretty clear that we at all costs should avoid US Airways. Their ratings as told by the people is just terrible. They have a real bad Customer Service Department, and their flights are apparently always late."
   ]
  },
  {
   "cell_type": "markdown",
   "metadata": {},
   "source": [
    "### SUMMARY: AVOID US AIRWAYS\n",
    "Overall it appears that Virgin Airlines would be the best choice, but be careful of this decisions. Virgin was the least talked about Airline in the Twitter-verse, but just because people aren't talking about you doesn't mean they like you either! But let's roll the dice and fly with Sir Richard Branson"
   ]
  }
 ],
 "metadata": {
  "kernelspec": {
   "display_name": "Python 3",
   "language": "python",
   "name": "python3"
  },
  "language_info": {
   "codemirror_mode": {
    "name": "ipython",
    "version": 3
   },
   "file_extension": ".py",
   "mimetype": "text/x-python",
   "name": "python",
   "nbconvert_exporter": "python",
   "pygments_lexer": "ipython3",
   "version": "3.6.1"
  }
 },
 "nbformat": 4,
 "nbformat_minor": 1
}
